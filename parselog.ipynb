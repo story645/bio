{
 "cells": [
  {
   "cell_type": "markdown",
   "metadata": {},
   "source": [
    "# Now let's parse the log file\n",
    "Note: you might want to do this in pieces in the tutorial. The way I worked through this/built it up is as follows:"
   ]
  },
  {
   "cell_type": "markdown",
   "metadata": {},
   "source": [
    "Let's use Python's Pathlib to check that our file exists before we try to parse it"
   ]
  },
  {
   "cell_type": "code",
   "execution_count": 1,
   "metadata": {},
   "outputs": [
    {
     "data": {
      "text/plain": [
       "True"
      ]
     },
     "execution_count": 1,
     "metadata": {},
     "output_type": "execute_result"
    }
   ],
   "source": [
    "from pathlib import Path\n",
    "filepath = Path('gctf-example/ctf/ctfindoutput/17may27a_L33_1d_00016gr_00125sq_v01_00007hln_00005enn_frames_ctffind3.log')\n",
    "filepath.exists()"
   ]
  },
  {
   "cell_type": "markdown",
   "metadata": {},
   "source": [
    "#### Open the file\n",
    "Use a content manager to open and read in the log file\n",
    "Context managers are used because they close the file when finished with reading it"
   ]
  },
  {
   "cell_type": "code",
   "execution_count": 2,
   "metadata": {},
   "outputs": [
    {
     "name": "stdout",
     "output_type": "stream",
     "text": [
      "['CS[mm], HT[kV], AmpCnst, XMAG, DStep[um]\\n', '2.7 300.0 0.07 45454.545454545454545454545455 50000\\n', '18706.6135279480450000 17174.1264720519550000 85 1 0 Final Values\\n']\n"
     ]
    }
   ],
   "source": [
    "with open(filepath) as f:\n",
    "    print(f.readlines())"
   ]
  },
  {
   "cell_type": "markdown",
   "metadata": {},
   "source": [
    "#### Get the first line/header\n",
    "\n",
    "Use next to grab the first line of the file since open returns a generator over the file\n",
    "\n",
    "\n",
    "A generator is kind of like a loop except the next item is grabbed on the fly instead of everything loaded at once. Making a burger fresh per order (generator) vs. having them all frozen in back (list)"
   ]
  },
  {
   "cell_type": "code",
   "execution_count": 3,
   "metadata": {},
   "outputs": [
    {
     "name": "stdout",
     "output_type": "stream",
     "text": [
      "CS[mm], HT[kV], AmpCnst, XMAG, DStep[um]\n",
      "\n"
     ]
    }
   ],
   "source": [
    "with open(filepath) as f:\n",
    "    print(next(f))"
   ]
  },
  {
   "cell_type": "markdown",
   "metadata": {},
   "source": [
    "#### Parse the header\n",
    "Now parse the header using strip to remove the new line and split to break on the commas"
   ]
  },
  {
   "cell_type": "code",
   "execution_count": 4,
   "metadata": {},
   "outputs": [
    {
     "name": "stdout",
     "output_type": "stream",
     "text": [
      "['CS[mm]', ' HT[kV]', ' AmpCnst', ' XMAG', ' DStep[um]']\n"
     ]
    }
   ],
   "source": [
    "with open(filepath) as f:\n",
    "    header = next(f).strip(\"\\n\").split(\",\")\n",
    "    print(header)"
   ]
  },
  {
   "cell_type": "markdown",
   "metadata": {},
   "source": [
    "#### Get the other lines\n",
    "Now lets look at the rest of the lines. That first next removes the first line, so the loop will print the rest"
   ]
  },
  {
   "cell_type": "code",
   "execution_count": 5,
   "metadata": {},
   "outputs": [
    {
     "name": "stdout",
     "output_type": "stream",
     "text": [
      "2.7 300.0 0.07 45454.545454545454545454545455 50000\n",
      "\n",
      "18706.6135279480450000 17174.1264720519550000 85 1 0 Final Values\n",
      "\n"
     ]
    }
   ],
   "source": [
    "with open(filepath) as f:\n",
    "    header = next(f).strip(\"\\n\").split(\",\") \n",
    "    for line in f:\n",
    "        print(line)"
   ]
  },
  {
   "cell_type": "markdown",
   "metadata": {},
   "source": [
    "#### Flag the last line\n",
    "Let's pull out the last line since it's flagged differently. We know it's got `Final Values` at the end so lets look for that"
   ]
  },
  {
   "cell_type": "code",
   "execution_count": 6,
   "metadata": {},
   "outputs": [
    {
     "name": "stdout",
     "output_type": "stream",
     "text": [
      "LAST:  18706.6135279480450000 17174.1264720519550000 85 1 0 Final Values\n",
      "\n"
     ]
    }
   ],
   "source": [
    "with open(filepath) as f:\n",
    "    header = next(f).strip(\"\\n\").split(\",\") \n",
    "    for line in f:\n",
    "        if line.endswith(\"Final Values\\n\"):\n",
    "            print(\"LAST: \", line)"
   ]
  },
  {
   "cell_type": "markdown",
   "metadata": {},
   "source": [
    "#### Build spreadsheet by building list of lines\n",
    "\n",
    "We create an empty list `loglines` to store our lines, and use pass to ignore the final values flag for now"
   ]
  },
  {
   "cell_type": "code",
   "execution_count": 7,
   "metadata": {},
   "outputs": [],
   "source": [
    "loglines = []\n",
    "with open(filepath) as f:\n",
    "    header = next(f).strip(\"\\n\").split(\",\") \n",
    "    for line in f:\n",
    "        if line.endswith(\"Final Values\\n\"):\n",
    "            pass\n",
    "        loglines.append(line.strip(\"\\n\").split(\" \"))\n",
    "        "
   ]
  },
  {
   "cell_type": "markdown",
   "metadata": {},
   "source": [
    "#### Create spreadsheet using pandas"
   ]
  },
  {
   "cell_type": "code",
   "execution_count": 8,
   "metadata": {},
   "outputs": [
    {
     "ename": "ValueError",
     "evalue": "5 columns passed, passed data had 7 columns",
     "output_type": "error",
     "traceback": [
      "\u001b[0;31m---------------------------------------------------------------------------\u001b[0m",
      "\u001b[0;31mAssertionError\u001b[0m                            Traceback (most recent call last)",
      "\u001b[0;32m~/miniconda3/envs/bio/lib/python3.7/site-packages/pandas/core/internals/construction.py\u001b[0m in \u001b[0;36m_list_to_arrays\u001b[0;34m(data, columns, coerce_float, dtype)\u001b[0m\n\u001b[1;32m    499\u001b[0m         result = _convert_object_array(\n\u001b[0;32m--> 500\u001b[0;31m             \u001b[0mcontent\u001b[0m\u001b[0;34m,\u001b[0m \u001b[0mcolumns\u001b[0m\u001b[0;34m,\u001b[0m \u001b[0mdtype\u001b[0m\u001b[0;34m=\u001b[0m\u001b[0mdtype\u001b[0m\u001b[0;34m,\u001b[0m \u001b[0mcoerce_float\u001b[0m\u001b[0;34m=\u001b[0m\u001b[0mcoerce_float\u001b[0m\u001b[0;34m\u001b[0m\u001b[0;34m\u001b[0m\u001b[0m\n\u001b[0m\u001b[1;32m    501\u001b[0m         )\n",
      "\u001b[0;32m~/miniconda3/envs/bio/lib/python3.7/site-packages/pandas/core/internals/construction.py\u001b[0m in \u001b[0;36m_convert_object_array\u001b[0;34m(content, columns, coerce_float, dtype)\u001b[0m\n\u001b[1;32m    582\u001b[0m                 \u001b[0;34m\"{col:d} columns passed, passed data had \"\u001b[0m\u001b[0;34m\u001b[0m\u001b[0;34m\u001b[0m\u001b[0m\n\u001b[0;32m--> 583\u001b[0;31m                 \u001b[0;34m\"{con} columns\"\u001b[0m\u001b[0;34m.\u001b[0m\u001b[0mformat\u001b[0m\u001b[0;34m(\u001b[0m\u001b[0mcol\u001b[0m\u001b[0;34m=\u001b[0m\u001b[0mlen\u001b[0m\u001b[0;34m(\u001b[0m\u001b[0mcolumns\u001b[0m\u001b[0;34m)\u001b[0m\u001b[0;34m,\u001b[0m \u001b[0mcon\u001b[0m\u001b[0;34m=\u001b[0m\u001b[0mlen\u001b[0m\u001b[0;34m(\u001b[0m\u001b[0mcontent\u001b[0m\u001b[0;34m)\u001b[0m\u001b[0;34m)\u001b[0m\u001b[0;34m\u001b[0m\u001b[0;34m\u001b[0m\u001b[0m\n\u001b[0m\u001b[1;32m    584\u001b[0m             )\n",
      "\u001b[0;31mAssertionError\u001b[0m: 5 columns passed, passed data had 7 columns",
      "\nThe above exception was the direct cause of the following exception:\n",
      "\u001b[0;31mValueError\u001b[0m                                Traceback (most recent call last)",
      "\u001b[0;32m<ipython-input-8-53b1d2550f05>\u001b[0m in \u001b[0;36m<module>\u001b[0;34m\u001b[0m\n\u001b[1;32m      1\u001b[0m \u001b[0;32mimport\u001b[0m \u001b[0mpandas\u001b[0m \u001b[0;32mas\u001b[0m \u001b[0mpd\u001b[0m\u001b[0;34m\u001b[0m\u001b[0;34m\u001b[0m\u001b[0m\n\u001b[0;32m----> 2\u001b[0;31m \u001b[0mpd\u001b[0m\u001b[0;34m.\u001b[0m\u001b[0mDataFrame\u001b[0m\u001b[0;34m(\u001b[0m\u001b[0mloglines\u001b[0m\u001b[0;34m,\u001b[0m \u001b[0mcolumns\u001b[0m\u001b[0;34m=\u001b[0m\u001b[0mheader\u001b[0m\u001b[0;34m)\u001b[0m\u001b[0;34m\u001b[0m\u001b[0;34m\u001b[0m\u001b[0m\n\u001b[0m",
      "\u001b[0;32m~/miniconda3/envs/bio/lib/python3.7/site-packages/pandas/core/frame.py\u001b[0m in \u001b[0;36m__init__\u001b[0;34m(self, data, index, columns, dtype, copy)\u001b[0m\n\u001b[1;32m    447\u001b[0m                     \u001b[0;32mif\u001b[0m \u001b[0mis_named_tuple\u001b[0m\u001b[0;34m(\u001b[0m\u001b[0mdata\u001b[0m\u001b[0;34m[\u001b[0m\u001b[0;36m0\u001b[0m\u001b[0;34m]\u001b[0m\u001b[0;34m)\u001b[0m \u001b[0;32mand\u001b[0m \u001b[0mcolumns\u001b[0m \u001b[0;32mis\u001b[0m \u001b[0;32mNone\u001b[0m\u001b[0;34m:\u001b[0m\u001b[0;34m\u001b[0m\u001b[0;34m\u001b[0m\u001b[0m\n\u001b[1;32m    448\u001b[0m                         \u001b[0mcolumns\u001b[0m \u001b[0;34m=\u001b[0m \u001b[0mdata\u001b[0m\u001b[0;34m[\u001b[0m\u001b[0;36m0\u001b[0m\u001b[0;34m]\u001b[0m\u001b[0;34m.\u001b[0m\u001b[0m_fields\u001b[0m\u001b[0;34m\u001b[0m\u001b[0;34m\u001b[0m\u001b[0m\n\u001b[0;32m--> 449\u001b[0;31m                     \u001b[0marrays\u001b[0m\u001b[0;34m,\u001b[0m \u001b[0mcolumns\u001b[0m \u001b[0;34m=\u001b[0m \u001b[0mto_arrays\u001b[0m\u001b[0;34m(\u001b[0m\u001b[0mdata\u001b[0m\u001b[0;34m,\u001b[0m \u001b[0mcolumns\u001b[0m\u001b[0;34m,\u001b[0m \u001b[0mdtype\u001b[0m\u001b[0;34m=\u001b[0m\u001b[0mdtype\u001b[0m\u001b[0;34m)\u001b[0m\u001b[0;34m\u001b[0m\u001b[0;34m\u001b[0m\u001b[0m\n\u001b[0m\u001b[1;32m    450\u001b[0m                     \u001b[0mcolumns\u001b[0m \u001b[0;34m=\u001b[0m \u001b[0mensure_index\u001b[0m\u001b[0;34m(\u001b[0m\u001b[0mcolumns\u001b[0m\u001b[0;34m)\u001b[0m\u001b[0;34m\u001b[0m\u001b[0;34m\u001b[0m\u001b[0m\n\u001b[1;32m    451\u001b[0m \u001b[0;34m\u001b[0m\u001b[0m\n",
      "\u001b[0;32m~/miniconda3/envs/bio/lib/python3.7/site-packages/pandas/core/internals/construction.py\u001b[0m in \u001b[0;36mto_arrays\u001b[0;34m(data, columns, coerce_float, dtype)\u001b[0m\n\u001b[1;32m    462\u001b[0m         \u001b[0;32mreturn\u001b[0m \u001b[0;34m[\u001b[0m\u001b[0;34m]\u001b[0m\u001b[0;34m,\u001b[0m \u001b[0;34m[\u001b[0m\u001b[0;34m]\u001b[0m  \u001b[0;31m# columns if columns is not None else []\u001b[0m\u001b[0;34m\u001b[0m\u001b[0;34m\u001b[0m\u001b[0m\n\u001b[1;32m    463\u001b[0m     \u001b[0;32mif\u001b[0m \u001b[0misinstance\u001b[0m\u001b[0;34m(\u001b[0m\u001b[0mdata\u001b[0m\u001b[0;34m[\u001b[0m\u001b[0;36m0\u001b[0m\u001b[0;34m]\u001b[0m\u001b[0;34m,\u001b[0m \u001b[0;34m(\u001b[0m\u001b[0mlist\u001b[0m\u001b[0;34m,\u001b[0m \u001b[0mtuple\u001b[0m\u001b[0;34m)\u001b[0m\u001b[0;34m)\u001b[0m\u001b[0;34m:\u001b[0m\u001b[0;34m\u001b[0m\u001b[0;34m\u001b[0m\u001b[0m\n\u001b[0;32m--> 464\u001b[0;31m         \u001b[0;32mreturn\u001b[0m \u001b[0m_list_to_arrays\u001b[0m\u001b[0;34m(\u001b[0m\u001b[0mdata\u001b[0m\u001b[0;34m,\u001b[0m \u001b[0mcolumns\u001b[0m\u001b[0;34m,\u001b[0m \u001b[0mcoerce_float\u001b[0m\u001b[0;34m=\u001b[0m\u001b[0mcoerce_float\u001b[0m\u001b[0;34m,\u001b[0m \u001b[0mdtype\u001b[0m\u001b[0;34m=\u001b[0m\u001b[0mdtype\u001b[0m\u001b[0;34m)\u001b[0m\u001b[0;34m\u001b[0m\u001b[0;34m\u001b[0m\u001b[0m\n\u001b[0m\u001b[1;32m    465\u001b[0m     \u001b[0;32melif\u001b[0m \u001b[0misinstance\u001b[0m\u001b[0;34m(\u001b[0m\u001b[0mdata\u001b[0m\u001b[0;34m[\u001b[0m\u001b[0;36m0\u001b[0m\u001b[0;34m]\u001b[0m\u001b[0;34m,\u001b[0m \u001b[0mabc\u001b[0m\u001b[0;34m.\u001b[0m\u001b[0mMapping\u001b[0m\u001b[0;34m)\u001b[0m\u001b[0;34m:\u001b[0m\u001b[0;34m\u001b[0m\u001b[0;34m\u001b[0m\u001b[0m\n\u001b[1;32m    466\u001b[0m         return _list_of_dict_to_arrays(\n",
      "\u001b[0;32m~/miniconda3/envs/bio/lib/python3.7/site-packages/pandas/core/internals/construction.py\u001b[0m in \u001b[0;36m_list_to_arrays\u001b[0;34m(data, columns, coerce_float, dtype)\u001b[0m\n\u001b[1;32m    501\u001b[0m         )\n\u001b[1;32m    502\u001b[0m     \u001b[0;32mexcept\u001b[0m \u001b[0mAssertionError\u001b[0m \u001b[0;32mas\u001b[0m \u001b[0me\u001b[0m\u001b[0;34m:\u001b[0m\u001b[0;34m\u001b[0m\u001b[0;34m\u001b[0m\u001b[0m\n\u001b[0;32m--> 503\u001b[0;31m         \u001b[0;32mraise\u001b[0m \u001b[0mValueError\u001b[0m\u001b[0;34m(\u001b[0m\u001b[0me\u001b[0m\u001b[0;34m)\u001b[0m \u001b[0;32mfrom\u001b[0m \u001b[0me\u001b[0m\u001b[0;34m\u001b[0m\u001b[0;34m\u001b[0m\u001b[0m\n\u001b[0m\u001b[1;32m    504\u001b[0m     \u001b[0;32mreturn\u001b[0m \u001b[0mresult\u001b[0m\u001b[0;34m\u001b[0m\u001b[0;34m\u001b[0m\u001b[0m\n\u001b[1;32m    505\u001b[0m \u001b[0;34m\u001b[0m\u001b[0m\n",
      "\u001b[0;31mValueError\u001b[0m: 5 columns passed, passed data had 7 columns"
     ]
    }
   ],
   "source": [
    "import pandas as pd\n",
    "pd.DataFrame(loglines, columns=header)"
   ]
  },
  {
   "cell_type": "markdown",
   "metadata": {},
   "source": [
    "#### Lets use that last line flag\n",
    "The spreadsheet creation failed because the last line is 7 columns when we only have 5 column headers. To make sure we're always passing in 5 columns of data, let's strip the final marker out of the last line. \n",
    "(Note, I have no idea how this should actually be parsed-Amadee, Dominique?)"
   ]
  },
  {
   "cell_type": "code",
   "execution_count": 85,
   "metadata": {},
   "outputs": [],
   "source": [
    "loglines = []\n",
    "with open(filepath) as f:\n",
    "    header = next(f).strip(\"\\n\").split(\",\") \n",
    "    for line in f:\n",
    "        if line.endswith(\"Final Values\\n\"):\n",
    "            line = line.strip(\"Final Values\\n\")    \n",
    "        loglines.append(line.strip(\"\\n\").split())\n",
    "        "
   ]
  },
  {
   "cell_type": "markdown",
   "metadata": {},
   "source": [
    "#### Lets try again to make that spreadsheet"
   ]
  },
  {
   "cell_type": "code",
   "execution_count": 86,
   "metadata": {},
   "outputs": [],
   "source": [
    "dflog = pd.DataFrame(loglines, columns=header)"
   ]
  },
  {
   "cell_type": "code",
   "execution_count": 87,
   "metadata": {},
   "outputs": [
    {
     "data": {
      "text/html": [
       "<div>\n",
       "<style scoped>\n",
       "    .dataframe tbody tr th:only-of-type {\n",
       "        vertical-align: middle;\n",
       "    }\n",
       "\n",
       "    .dataframe tbody tr th {\n",
       "        vertical-align: top;\n",
       "    }\n",
       "\n",
       "    .dataframe thead th {\n",
       "        text-align: right;\n",
       "    }\n",
       "</style>\n",
       "<table border=\"1\" class=\"dataframe\">\n",
       "  <thead>\n",
       "    <tr style=\"text-align: right;\">\n",
       "      <th></th>\n",
       "      <th>CS[mm]</th>\n",
       "      <th>HT[kV]</th>\n",
       "      <th>AmpCnst</th>\n",
       "      <th>XMAG</th>\n",
       "      <th>DStep[um]</th>\n",
       "    </tr>\n",
       "  </thead>\n",
       "  <tbody>\n",
       "    <tr>\n",
       "      <th>0</th>\n",
       "      <td>2.7</td>\n",
       "      <td>300.0</td>\n",
       "      <td>0.07</td>\n",
       "      <td>45454.545454545454545454545455</td>\n",
       "      <td>50000</td>\n",
       "    </tr>\n",
       "    <tr>\n",
       "      <th>1</th>\n",
       "      <td>18706.6135279480450000</td>\n",
       "      <td>17174.1264720519550000</td>\n",
       "      <td>85</td>\n",
       "      <td>1</td>\n",
       "      <td>0</td>\n",
       "    </tr>\n",
       "  </tbody>\n",
       "</table>\n",
       "</div>"
      ],
      "text/plain": [
       "                   CS[mm]                  HT[kV]  AmpCnst  \\\n",
       "0                     2.7                   300.0     0.07   \n",
       "1  18706.6135279480450000  17174.1264720519550000       85   \n",
       "\n",
       "                             XMAG  DStep[um]  \n",
       "0  45454.545454545454545454545455      50000  \n",
       "1                               1          0  "
      ]
     },
     "execution_count": 87,
     "metadata": {},
     "output_type": "execute_result"
    }
   ],
   "source": [
    "dflog.head()"
   ]
  },
  {
   "cell_type": "markdown",
   "metadata": {},
   "source": [
    "# Try a larger file\n",
    "\n",
    "Using the code above as a base, try to write a parser for:\n",
    "\n",
    "`gctf-example/ctf/gctfoutput/17may27a_L33_1d_00016gr_00125sq_v01_00007hln_00005enn-a_EPA.log`\n"
   ]
  },
  {
   "cell_type": "code",
   "execution_count": 16,
   "metadata": {},
   "outputs": [
    {
     "data": {
      "text/plain": [
       "True"
      ]
     },
     "execution_count": 16,
     "metadata": {},
     "output_type": "execute_result"
    }
   ],
   "source": [
    "fpath = Path('gctf-example/ctf/gctfoutput/17may27a_L33_1d_00016gr_00125sq_v01_00007hln_00005enn-a_EPA.log')\n",
    "fpath.exists()"
   ]
  },
  {
   "cell_type": "markdown",
   "metadata": {},
   "source": [
    "#### Look at the raw data\n",
    "the head linux command prints the first ten lines of a file."
   ]
  },
  {
   "cell_type": "code",
   "execution_count": 21,
   "metadata": {},
   "outputs": [
    {
     "name": "stdout",
     "output_type": "stream",
     "text": [
      "  Resolution      |CTFsim|    EPA( Ln|F| )    EPA(Ln|F| - Bg)    CCC\r\n",
      "   29.671053      0.945488     13.716343       0.248113       1.000000 \r\n",
      "   29.285715      0.955655     13.710673       0.245695       1.000000 \r\n",
      "   28.910257      0.964906     13.704609       0.242774       1.000000 \r\n",
      "   28.544304      0.973193     13.697906       0.239307       1.000000 \r\n",
      "   28.187500      0.980462     13.690575       0.235139       1.000000 \r\n",
      "   27.839506      0.986663     13.682796       0.230582       1.000000 \r\n",
      "   27.500000      0.991745     13.674355       0.225398       1.000000 \r\n",
      "   27.168674      0.995657     13.665446       0.219695       1.000000 \r\n",
      "   26.845238      0.998350     13.655989       0.213459       1.000000 \r\n"
     ]
    }
   ],
   "source": [
    "!head gctf-example/ctf/gctfoutput/17may27a_L33_1d_00016gr_00125sq_v01_00007hln_00005enn-a_EPA.log"
   ]
  },
  {
   "cell_type": "markdown",
   "metadata": {},
   "source": [
    "#### read log file into spreadsheet\n",
    "That header is a bit hard to parse because of the inconsistent spacing, so let's modify our current function."
   ]
  },
  {
   "cell_type": "code",
   "execution_count": 45,
   "metadata": {},
   "outputs": [],
   "source": [
    "loglines = []\n",
    "with open(fpath) as f:\n",
    "    header = next(f)"
   ]
  },
  {
   "cell_type": "markdown",
   "metadata": {},
   "source": [
    "####  figure out how to get the column names"
   ]
  },
  {
   "cell_type": "code",
   "execution_count": 60,
   "metadata": {},
   "outputs": [
    {
     "data": {
      "text/plain": [
       "['Resolution',\n",
       " '|CTFsim|',\n",
       " 'EPA(',\n",
       " 'Ln|F|',\n",
       " ')',\n",
       " 'EPA(Ln|F|',\n",
       " '-',\n",
       " 'Bg)',\n",
       " 'CCC']"
      ]
     },
     "execution_count": 60,
     "metadata": {},
     "output_type": "execute_result"
    }
   ],
   "source": [
    "# let's try breaking up on whitespace (default)\n",
    "header.split()"
   ]
  },
  {
   "cell_type": "code",
   "execution_count": 61,
   "metadata": {},
   "outputs": [
    {
     "data": {
      "text/plain": [
       "['',\n",
       " 'Resolution',\n",
       " '',\n",
       " '',\n",
       " '|CTFsim|',\n",
       " '',\n",
       " 'EPA( Ln|F| )',\n",
       " '',\n",
       " 'EPA(Ln|F| - Bg)',\n",
       " '',\n",
       " 'CCC']"
      ]
     },
     "execution_count": 61,
     "metadata": {},
     "output_type": "execute_result"
    }
   ],
   "source": [
    "# looking above, looks like the columns always have at least two spaces between\n",
    "header.strip('\\n').split(\"  \")"
   ]
  },
  {
   "cell_type": "markdown",
   "metadata": {},
   "source": [
    "can we maybe clean up the weird spaces? \n",
    "* replace \" \" with \"\" - space with no space\n",
    "* use list comprehension to look at every element in the list"
   ]
  },
  {
   "cell_type": "code",
   "execution_count": 67,
   "metadata": {},
   "outputs": [
    {
     "data": {
      "text/plain": [
       "'hellogoodbye'"
      ]
     },
     "execution_count": 67,
     "metadata": {},
     "output_type": "execute_result"
    }
   ],
   "source": [
    "\"hello goodbye\".replace(\" \",\"\")"
   ]
  },
  {
   "cell_type": "code",
   "execution_count": 68,
   "metadata": {},
   "outputs": [
    {
     "data": {
      "text/plain": [
       "['',\n",
       " 'Resolution',\n",
       " '',\n",
       " '',\n",
       " '|CTFsim|',\n",
       " '',\n",
       " 'EPA(Ln|F|)',\n",
       " '',\n",
       " 'EPA(Ln|F|-Bg)',\n",
       " '',\n",
       " 'CCC']"
      ]
     },
     "execution_count": 68,
     "metadata": {},
     "output_type": "execute_result"
    }
   ],
   "source": [
    "[col.replace(\" \",\"\") for col in header.strip('\\n').split(\"  \")]"
   ]
  },
  {
   "cell_type": "markdown",
   "metadata": {},
   "source": [
    "can we drop the empty elements in the list? yes- filtering?\n",
    "the empty string '' evaulates to None, so `if ''` is always false"
   ]
  },
  {
   "cell_type": "code",
   "execution_count": 70,
   "metadata": {},
   "outputs": [
    {
     "data": {
      "text/plain": [
       "['Resolution', '|CTFsim|', 'EPA(Ln|F|)', 'EPA(Ln|F|-Bg)', 'CCC']"
      ]
     },
     "execution_count": 70,
     "metadata": {},
     "output_type": "execute_result"
    }
   ],
   "source": [
    "[col.replace(\" \",\"\") for col in header.strip('\\n').split(\"  \") if col]"
   ]
  },
  {
   "cell_type": "code",
   "execution_count": 72,
   "metadata": {},
   "outputs": [
    {
     "data": {
      "text/plain": [
       "['Resolution', '|CTFsim|', 'EPA(Ln|F|)', 'EPA(Ln|F|-Bg)', 'CCC']"
      ]
     },
     "execution_count": 72,
     "metadata": {},
     "output_type": "execute_result"
    }
   ],
   "source": [
    "columns = [col.replace(\" \",\"\") for col in header.strip('\\n').split(\"  \") if col]\n",
    "columns"
   ]
  },
  {
   "cell_type": "markdown",
   "metadata": {},
   "source": [
    "#### Let's put all this code together:"
   ]
  },
  {
   "cell_type": "code",
   "execution_count": 88,
   "metadata": {},
   "outputs": [],
   "source": [
    "loglines = []\n",
    "with open(fpath) as f:\n",
    "    header = next(f)\n",
    "    columns = [col.replace(\" \",\"\") for col in header.strip('\\n').split(\"  \") if col]\n",
    "    for line in f:\n",
    "        loglines.append(line.strip(\"\\n\").split())"
   ]
  },
  {
   "cell_type": "markdown",
   "metadata": {},
   "source": [
    "#### let's make our spreadsheet\n",
    "we're going to tell pandas that all the data are float numbers because we know this information and so it's safer to declare it"
   ]
  },
  {
   "cell_type": "code",
   "execution_count": 98,
   "metadata": {},
   "outputs": [],
   "source": [
    "gctflog = pd.DataFrame(loglines, columns=columns, dtype='float')"
   ]
  },
  {
   "cell_type": "code",
   "execution_count": 99,
   "metadata": {},
   "outputs": [
    {
     "data": {
      "text/html": [
       "<div>\n",
       "<style scoped>\n",
       "    .dataframe tbody tr th:only-of-type {\n",
       "        vertical-align: middle;\n",
       "    }\n",
       "\n",
       "    .dataframe tbody tr th {\n",
       "        vertical-align: top;\n",
       "    }\n",
       "\n",
       "    .dataframe thead th {\n",
       "        text-align: right;\n",
       "    }\n",
       "</style>\n",
       "<table border=\"1\" class=\"dataframe\">\n",
       "  <thead>\n",
       "    <tr style=\"text-align: right;\">\n",
       "      <th></th>\n",
       "      <th>Resolution</th>\n",
       "      <th>|CTFsim|</th>\n",
       "      <th>EPA(Ln|F|)</th>\n",
       "      <th>EPA(Ln|F|-Bg)</th>\n",
       "      <th>CCC</th>\n",
       "    </tr>\n",
       "  </thead>\n",
       "  <tbody>\n",
       "    <tr>\n",
       "      <th>0</th>\n",
       "      <td>29.671053</td>\n",
       "      <td>0.945488</td>\n",
       "      <td>13.716343</td>\n",
       "      <td>0.248113</td>\n",
       "      <td>1.0</td>\n",
       "    </tr>\n",
       "    <tr>\n",
       "      <th>1</th>\n",
       "      <td>29.285715</td>\n",
       "      <td>0.955655</td>\n",
       "      <td>13.710673</td>\n",
       "      <td>0.245695</td>\n",
       "      <td>1.0</td>\n",
       "    </tr>\n",
       "    <tr>\n",
       "      <th>2</th>\n",
       "      <td>28.910257</td>\n",
       "      <td>0.964906</td>\n",
       "      <td>13.704609</td>\n",
       "      <td>0.242774</td>\n",
       "      <td>1.0</td>\n",
       "    </tr>\n",
       "    <tr>\n",
       "      <th>3</th>\n",
       "      <td>28.544304</td>\n",
       "      <td>0.973193</td>\n",
       "      <td>13.697906</td>\n",
       "      <td>0.239307</td>\n",
       "      <td>1.0</td>\n",
       "    </tr>\n",
       "    <tr>\n",
       "      <th>4</th>\n",
       "      <td>28.187500</td>\n",
       "      <td>0.980462</td>\n",
       "      <td>13.690575</td>\n",
       "      <td>0.235139</td>\n",
       "      <td>1.0</td>\n",
       "    </tr>\n",
       "  </tbody>\n",
       "</table>\n",
       "</div>"
      ],
      "text/plain": [
       "   Resolution  |CTFsim|  EPA(Ln|F|)  EPA(Ln|F|-Bg)  CCC\n",
       "0   29.671053  0.945488   13.716343       0.248113  1.0\n",
       "1   29.285715  0.955655   13.710673       0.245695  1.0\n",
       "2   28.910257  0.964906   13.704609       0.242774  1.0\n",
       "3   28.544304  0.973193   13.697906       0.239307  1.0\n",
       "4   28.187500  0.980462   13.690575       0.235139  1.0"
      ]
     },
     "execution_count": 99,
     "metadata": {},
     "output_type": "execute_result"
    }
   ],
   "source": [
    "gctflog.head()"
   ]
  },
  {
   "cell_type": "code",
   "execution_count": 100,
   "metadata": {},
   "outputs": [
    {
     "name": "stdout",
     "output_type": "stream",
     "text": [
      "<class 'pandas.core.frame.DataFrame'>\n",
      "RangeIndex: 862 entries, 0 to 861\n",
      "Data columns (total 5 columns):\n",
      "Resolution       862 non-null float64\n",
      "|CTFsim|         862 non-null float64\n",
      "EPA(Ln|F|)       862 non-null float64\n",
      "EPA(Ln|F|-Bg)    862 non-null float64\n",
      "CCC              862 non-null float64\n",
      "dtypes: float64(5)\n",
      "memory usage: 33.8 KB\n"
     ]
    }
   ],
   "source": [
    "gctflog.info()# check the data types of our columns"
   ]
  },
  {
   "cell_type": "markdown",
   "metadata": {},
   "source": [
    "# Let's create a new column"
   ]
  },
  {
   "cell_type": "code",
   "execution_count": 101,
   "metadata": {},
   "outputs": [],
   "source": [
    "gctflog['Inverse Resolution'] = 1/gctflog['Resolution']"
   ]
  },
  {
   "cell_type": "code",
   "execution_count": 102,
   "metadata": {},
   "outputs": [
    {
     "data": {
      "text/plain": [
       "Index(['Resolution', '|CTFsim|', 'EPA(Ln|F|)', 'EPA(Ln|F|-Bg)', 'CCC',\n",
       "       'Inverse Resolution'],\n",
       "      dtype='object')"
      ]
     },
     "execution_count": 102,
     "metadata": {},
     "output_type": "execute_result"
    }
   ],
   "source": [
    "gctflog.columns"
   ]
  },
  {
   "cell_type": "markdown",
   "metadata": {},
   "source": [
    "# Let's plot the Contrast Transfer Functions"
   ]
  },
  {
   "cell_type": "code",
   "execution_count": null,
   "metadata": {},
   "outputs": [],
   "source": [
    "plt.figure(figsize=(8,8))\n",
    "plt.subplot(111)\n",
    "plt.axis([xstart,xend,ystart,yend])\n",
    "# plt.xscale('log')\n",
    "\n",
    "    plt.plot(recres,ctfsim,markersize=1,linewidth=0.5)\n",
    "    plt.plot(recres,EPA2,markersize=2,linewidth=0.5)\n",
    "\n",
    "    plt.title('gctf plot')\n",
    "\n",
    "plt.xlabel('1/Resolution [1/A]  (Range: '+str(round(res[0],1))+':'+str(round(res[len(res)-1],1))+'A)')\n",
    "plt.ylabel('EPA ( ln|F| )')\n",
    "\n",
    "plt.grid(True)\n"
   ]
  },
  {
   "cell_type": "code",
   "execution_count": 103,
   "metadata": {},
   "outputs": [
    {
     "data": {
      "text/plain": [
       "Index(['Resolution', '|CTFsim|', 'EPA(Ln|F|)', 'EPA(Ln|F|-Bg)', 'CCC',\n",
       "       'Inverse Resolution'],\n",
       "      dtype='object')"
      ]
     },
     "execution_count": 103,
     "metadata": {},
     "output_type": "execute_result"
    }
   ],
   "source": [
    "gctflog.columns"
   ]
  },
  {
   "cell_type": "code",
   "execution_count": 127,
   "metadata": {},
   "outputs": [
    {
     "data": {
      "image/png": "[encoded data removed]",
      "text/plain": [
       "<Figure size 576x576 with 1 Axes>"
      ]
     },
     "metadata": {
      "needs_background": "light"
     },
     "output_type": "display_data"
    }
   ],
   "source": [
    "%matplotlib inline\n",
    "import matplotlib.pyplot as plt\n",
    "\n",
    "fig, ax = plt.subplots(figsize=(8,8))\n",
    "ax.set_title('gctf plot')\n",
    "ax.plot('Inverse Resolution', '|CTFsim|', markersize=1, linewidth=0.5, label='CTFsim', data=gctflog)\n",
    "ax.plot('Inverse Resolution', 'EPA(Ln|F|-Bg)', markersize=2, linewidth=0.5, label='EPA(Ln|F|-Bg)', data=gctflog)\n",
    "ax.set_xlabel(f'1/Resolution [1/A] Range: {gctflog[\"Resolution\"].iloc[0]:.0f}:{gctflog[\"Resolution\"].iloc[-1]:.0f} A')\n",
    "ax.set_ylabel('EPA(ln|F|)')\n",
    "ax.legend()\n",
    "ax.grid(True)\n",
    "              \n",
    "fig.savefig(\"\")"
   ]
  },
  {
   "cell_type": "markdown",
   "metadata": {},
   "source": [
    "#### Aside: fstrings \n",
    "We can let Python handle a lot fo fancy string formatting using fstrings: https://docs.python.org/3/library/string.html?highlight=f%20string#format-string-syntax"
   ]
  },
  {
   "cell_type": "code",
   "execution_count": 122,
   "metadata": {},
   "outputs": [
    {
     "data": {
      "text/plain": [
       "'Range: 30:2 A'"
      ]
     },
     "execution_count": 122,
     "metadata": {},
     "output_type": "execute_result"
    }
   ],
   "source": [
    "f'Range: {gctflog[\"Resolution\"].iloc[0]:.0f}:{gctflog[\"Resolution\"].iloc[-1]:.0f} A'"
   ]
  }
 ],
 "metadata": {
  "kernelspec": {
   "display_name": "Python 3",
   "language": "python",
   "name": "python3"
  },
  "language_info": {
   "codemirror_mode": {
    "name": "ipython",
    "version": 3
   },
   "file_extension": ".py",
   "mimetype": "text/x-python",
   "name": "python",
   "nbconvert_exporter": "python",
   "pygments_lexer": "ipython3",
   "version": "3.7.3"
  }
 },
 "nbformat": 4,
 "nbformat_minor": 2
}
