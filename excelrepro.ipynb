{
 "cells": [
  {
   "cell_type": "markdown",
   "metadata": {},
   "source": [
    "# Install library to read Relian .star files\n",
    "We're using mrcz because it was pip installable (meaning it was easy to install):\n",
    "https://python-mrcz.readthedocs.io/index.html\n",
    "\n",
    "if it's not installed, type the following in a jupyter notebook cell:\n",
    "```python\n",
    "%pip install mrcz\n",
    "```"
   ]
  },
  {
   "cell_type": "code",
   "execution_count": 1,
   "metadata": {},
   "outputs": [],
   "source": [
    "import mrcz.ReliablePy as mrp"
   ]
  },
  {
   "cell_type": "code",
   "execution_count": 2,
   "metadata": {},
   "outputs": [],
   "source": [
    "# create data object\n",
    "rln = mrp.ReliablePy()"
   ]
  },
  {
   "cell_type": "code",
   "execution_count": 12,
   "metadata": {},
   "outputs": [
    {
     "name": "stdout",
     "output_type": "stream",
     "text": [
      "DEBUG: lookup = {1: b'MicrographName', 2: b'CoordinateX', 3: b'CoordinateY', 4: b'Voltage', 5: b'DefocusU', 6: b'DefocusV', 7: b'DefocusAngle', 8: b'SphericalAberration', 9: b'DetectorPixelSize', 10: b'CtfFigureOfMerit', 11: b'Magnification', 12: b'AmplitudeContrast', 13: b'AutopickFigureOfMerit'}\n"
     ]
    }
   ],
   "source": [
    "#load in files\n",
    "# Wildcards can be loaded\n",
    "rln.load( 'gctf-example/17may27a_L33_1d_00016gr_00125sq_v01_00007hln_00005enn-a_local.star')\n",
    "    "
   ]
  },
  {
   "cell_type": "code",
   "execution_count": 13,
   "metadata": {},
   "outputs": [
    {
     "data": {
      "text/plain": [
       "odict_keys([b'data_'])"
      ]
     },
     "execution_count": 13,
     "metadata": {},
     "output_type": "execute_result"
    }
   ],
   "source": [
    "#see what data is available - the file gets loaded in as a dictionary of dictionaries\n",
    "# b' means data_ is a binary string\n",
    "rln.star.keys()"
   ]
  },
  {
   "cell_type": "code",
   "execution_count": 14,
   "metadata": {},
   "outputs": [
    {
     "data": {
      "text/plain": [
       "odict_keys([b'MicrographName', b'CoordinateX', b'CoordinateY', b'Voltage', b'DefocusU', b'DefocusV', b'DefocusAngle', b'SphericalAberration', b'DetectorPixelSize', b'CtfFigureOfMerit', b'Magnification', b'AmplitudeContrast', b'AutopickFigureOfMerit'])"
      ]
     },
     "execution_count": 14,
     "metadata": {},
     "output_type": "execute_result"
    }
   ],
   "source": [
    "#lets see what fields we have for the relion style\n",
    "rln.star[b'data_'].keys()"
   ]
  },
  {
   "cell_type": "code",
   "execution_count": 15,
   "metadata": {},
   "outputs": [],
   "source": [
    "#convert the star file to a spreadsheet\n",
    "#can be done directly since it's an ordered dictionary of ordered dictionaries\n",
    "import pandas as pd\n",
    "dfstar = pd.DataFrame(rln.star[b'data_'])"
   ]
  },
  {
   "cell_type": "code",
   "execution_count": 16,
   "metadata": {},
   "outputs": [
    {
     "data": {
      "text/html": [
       "<div>\n",
       "<style scoped>\n",
       "    .dataframe tbody tr th:only-of-type {\n",
       "        vertical-align: middle;\n",
       "    }\n",
       "\n",
       "    .dataframe tbody tr th {\n",
       "        vertical-align: top;\n",
       "    }\n",
       "\n",
       "    .dataframe thead th {\n",
       "        text-align: right;\n",
       "    }\n",
       "</style>\n",
       "<table border=\"1\" class=\"dataframe\">\n",
       "  <thead>\n",
       "    <tr style=\"text-align: right;\">\n",
       "      <th></th>\n",
       "      <th>b'MicrographName'</th>\n",
       "      <th>b'CoordinateX'</th>\n",
       "      <th>b'CoordinateY'</th>\n",
       "      <th>b'Voltage'</th>\n",
       "      <th>b'DefocusU'</th>\n",
       "      <th>b'DefocusV'</th>\n",
       "      <th>b'DefocusAngle'</th>\n",
       "      <th>b'SphericalAberration'</th>\n",
       "      <th>b'DetectorPixelSize'</th>\n",
       "      <th>b'CtfFigureOfMerit'</th>\n",
       "      <th>b'Magnification'</th>\n",
       "      <th>b'AmplitudeContrast'</th>\n",
       "      <th>b'AutopickFigureOfMerit'</th>\n",
       "    </tr>\n",
       "  </thead>\n",
       "  <tbody>\n",
       "    <tr>\n",
       "      <th>0</th>\n",
       "      <td>b'aligned/17may27a_L33_1d_00016gr_00125sq_v01_...</td>\n",
       "      <td>2336.0</td>\n",
       "      <td>336.0</td>\n",
       "      <td>300.0</td>\n",
       "      <td>17178.685547</td>\n",
       "      <td>19613.064453</td>\n",
       "      <td>5.996486</td>\n",
       "      <td>2.7</td>\n",
       "      <td>5.0</td>\n",
       "      <td>0.010898</td>\n",
       "      <td>45454.542969</td>\n",
       "      <td>0.001</td>\n",
       "      <td>0.824345</td>\n",
       "    </tr>\n",
       "    <tr>\n",
       "      <th>1</th>\n",
       "      <td>b'aligned/17may27a_L33_1d_00016gr_00125sq_v01_...</td>\n",
       "      <td>3116.0</td>\n",
       "      <td>228.0</td>\n",
       "      <td>300.0</td>\n",
       "      <td>17204.728516</td>\n",
       "      <td>19639.107422</td>\n",
       "      <td>5.996486</td>\n",
       "      <td>2.7</td>\n",
       "      <td>5.0</td>\n",
       "      <td>0.013667</td>\n",
       "      <td>45454.542969</td>\n",
       "      <td>0.001</td>\n",
       "      <td>0.655404</td>\n",
       "    </tr>\n",
       "    <tr>\n",
       "      <th>2</th>\n",
       "      <td>b'aligned/17may27a_L33_1d_00016gr_00125sq_v01_...</td>\n",
       "      <td>724.0</td>\n",
       "      <td>496.0</td>\n",
       "      <td>300.0</td>\n",
       "      <td>17467.830078</td>\n",
       "      <td>19902.208984</td>\n",
       "      <td>5.996486</td>\n",
       "      <td>2.7</td>\n",
       "      <td>5.0</td>\n",
       "      <td>0.004492</td>\n",
       "      <td>45454.542969</td>\n",
       "      <td>0.001</td>\n",
       "      <td>0.214542</td>\n",
       "    </tr>\n",
       "    <tr>\n",
       "      <th>3</th>\n",
       "      <td>b'aligned/17may27a_L33_1d_00016gr_00125sq_v01_...</td>\n",
       "      <td>1016.0</td>\n",
       "      <td>540.0</td>\n",
       "      <td>300.0</td>\n",
       "      <td>17555.066406</td>\n",
       "      <td>19989.445312</td>\n",
       "      <td>5.996486</td>\n",
       "      <td>2.7</td>\n",
       "      <td>5.0</td>\n",
       "      <td>0.004144</td>\n",
       "      <td>45454.542969</td>\n",
       "      <td>0.001</td>\n",
       "      <td>0.572232</td>\n",
       "    </tr>\n",
       "    <tr>\n",
       "      <th>4</th>\n",
       "      <td>b'aligned/17may27a_L33_1d_00016gr_00125sq_v01_...</td>\n",
       "      <td>2752.0</td>\n",
       "      <td>528.0</td>\n",
       "      <td>300.0</td>\n",
       "      <td>16902.119141</td>\n",
       "      <td>19336.498047</td>\n",
       "      <td>5.996486</td>\n",
       "      <td>2.7</td>\n",
       "      <td>5.0</td>\n",
       "      <td>0.012169</td>\n",
       "      <td>45454.542969</td>\n",
       "      <td>0.001</td>\n",
       "      <td>0.690324</td>\n",
       "    </tr>\n",
       "  </tbody>\n",
       "</table>\n",
       "</div>"
      ],
      "text/plain": [
       "                                   b'MicrographName'  b'CoordinateX'  \\\n",
       "0  b'aligned/17may27a_L33_1d_00016gr_00125sq_v01_...          2336.0   \n",
       "1  b'aligned/17may27a_L33_1d_00016gr_00125sq_v01_...          3116.0   \n",
       "2  b'aligned/17may27a_L33_1d_00016gr_00125sq_v01_...           724.0   \n",
       "3  b'aligned/17may27a_L33_1d_00016gr_00125sq_v01_...          1016.0   \n",
       "4  b'aligned/17may27a_L33_1d_00016gr_00125sq_v01_...          2752.0   \n",
       "\n",
       "   b'CoordinateY'  b'Voltage'   b'DefocusU'   b'DefocusV'  b'DefocusAngle'  \\\n",
       "0           336.0       300.0  17178.685547  19613.064453         5.996486   \n",
       "1           228.0       300.0  17204.728516  19639.107422         5.996486   \n",
       "2           496.0       300.0  17467.830078  19902.208984         5.996486   \n",
       "3           540.0       300.0  17555.066406  19989.445312         5.996486   \n",
       "4           528.0       300.0  16902.119141  19336.498047         5.996486   \n",
       "\n",
       "   b'SphericalAberration'  b'DetectorPixelSize'  b'CtfFigureOfMerit'  \\\n",
       "0                     2.7                   5.0             0.010898   \n",
       "1                     2.7                   5.0             0.013667   \n",
       "2                     2.7                   5.0             0.004492   \n",
       "3                     2.7                   5.0             0.004144   \n",
       "4                     2.7                   5.0             0.012169   \n",
       "\n",
       "   b'Magnification'  b'AmplitudeContrast'  b'AutopickFigureOfMerit'  \n",
       "0      45454.542969                 0.001                  0.824345  \n",
       "1      45454.542969                 0.001                  0.655404  \n",
       "2      45454.542969                 0.001                  0.214542  \n",
       "3      45454.542969                 0.001                  0.572232  \n",
       "4      45454.542969                 0.001                  0.690324  "
      ]
     },
     "execution_count": 16,
     "metadata": {},
     "output_type": "execute_result"
    }
   ],
   "source": [
    "#let's look at that spreadsheet\n",
    "dfstar.head()"
   ]
  },
  {
   "cell_type": "code",
   "execution_count": 17,
   "metadata": {},
   "outputs": [
    {
     "data": {
      "text/plain": [
       "{b'MicrographName': 'MicrographName',\n",
       " b'CoordinateX': 'CoordinateX',\n",
       " b'CoordinateY': 'CoordinateY',\n",
       " b'Voltage': 'Voltage',\n",
       " b'DefocusU': 'DefocusU',\n",
       " b'DefocusV': 'DefocusV',\n",
       " b'DefocusAngle': 'DefocusAngle',\n",
       " b'SphericalAberration': 'SphericalAberration',\n",
       " b'DetectorPixelSize': 'DetectorPixelSize',\n",
       " b'CtfFigureOfMerit': 'CtfFigureOfMerit',\n",
       " b'Magnification': 'Magnification',\n",
       " b'AmplitudeContrast': 'AmplitudeContrast',\n",
       " b'AutopickFigureOfMerit': 'AutopickFigureOfMerit'}"
      ]
     },
     "execution_count": 17,
     "metadata": {},
     "output_type": "execute_result"
    }
   ],
   "source": [
    "# get the string version of all the column names\n",
    "cn2str = dict([(cn, cn.decode('utf-8'))for cn in dfstar.columns])\n",
    "cn2str"
   ]
  },
  {
   "cell_type": "code",
   "execution_count": 18,
   "metadata": {},
   "outputs": [
    {
     "data": {
      "text/html": [
       "<div>\n",
       "<style scoped>\n",
       "    .dataframe tbody tr th:only-of-type {\n",
       "        vertical-align: middle;\n",
       "    }\n",
       "\n",
       "    .dataframe tbody tr th {\n",
       "        vertical-align: top;\n",
       "    }\n",
       "\n",
       "    .dataframe thead th {\n",
       "        text-align: right;\n",
       "    }\n",
       "</style>\n",
       "<table border=\"1\" class=\"dataframe\">\n",
       "  <thead>\n",
       "    <tr style=\"text-align: right;\">\n",
       "      <th></th>\n",
       "      <th>MicrographName</th>\n",
       "      <th>CoordinateX</th>\n",
       "      <th>CoordinateY</th>\n",
       "      <th>Voltage</th>\n",
       "      <th>DefocusU</th>\n",
       "      <th>DefocusV</th>\n",
       "      <th>DefocusAngle</th>\n",
       "      <th>SphericalAberration</th>\n",
       "      <th>DetectorPixelSize</th>\n",
       "      <th>CtfFigureOfMerit</th>\n",
       "      <th>Magnification</th>\n",
       "      <th>AmplitudeContrast</th>\n",
       "      <th>AutopickFigureOfMerit</th>\n",
       "    </tr>\n",
       "  </thead>\n",
       "  <tbody>\n",
       "    <tr>\n",
       "      <th>0</th>\n",
       "      <td>b'aligned/17may27a_L33_1d_00016gr_00125sq_v01_...</td>\n",
       "      <td>2336.0</td>\n",
       "      <td>336.0</td>\n",
       "      <td>300.0</td>\n",
       "      <td>17178.685547</td>\n",
       "      <td>19613.064453</td>\n",
       "      <td>5.996486</td>\n",
       "      <td>2.7</td>\n",
       "      <td>5.0</td>\n",
       "      <td>0.010898</td>\n",
       "      <td>45454.542969</td>\n",
       "      <td>0.001</td>\n",
       "      <td>0.824345</td>\n",
       "    </tr>\n",
       "    <tr>\n",
       "      <th>1</th>\n",
       "      <td>b'aligned/17may27a_L33_1d_00016gr_00125sq_v01_...</td>\n",
       "      <td>3116.0</td>\n",
       "      <td>228.0</td>\n",
       "      <td>300.0</td>\n",
       "      <td>17204.728516</td>\n",
       "      <td>19639.107422</td>\n",
       "      <td>5.996486</td>\n",
       "      <td>2.7</td>\n",
       "      <td>5.0</td>\n",
       "      <td>0.013667</td>\n",
       "      <td>45454.542969</td>\n",
       "      <td>0.001</td>\n",
       "      <td>0.655404</td>\n",
       "    </tr>\n",
       "    <tr>\n",
       "      <th>2</th>\n",
       "      <td>b'aligned/17may27a_L33_1d_00016gr_00125sq_v01_...</td>\n",
       "      <td>724.0</td>\n",
       "      <td>496.0</td>\n",
       "      <td>300.0</td>\n",
       "      <td>17467.830078</td>\n",
       "      <td>19902.208984</td>\n",
       "      <td>5.996486</td>\n",
       "      <td>2.7</td>\n",
       "      <td>5.0</td>\n",
       "      <td>0.004492</td>\n",
       "      <td>45454.542969</td>\n",
       "      <td>0.001</td>\n",
       "      <td>0.214542</td>\n",
       "    </tr>\n",
       "    <tr>\n",
       "      <th>3</th>\n",
       "      <td>b'aligned/17may27a_L33_1d_00016gr_00125sq_v01_...</td>\n",
       "      <td>1016.0</td>\n",
       "      <td>540.0</td>\n",
       "      <td>300.0</td>\n",
       "      <td>17555.066406</td>\n",
       "      <td>19989.445312</td>\n",
       "      <td>5.996486</td>\n",
       "      <td>2.7</td>\n",
       "      <td>5.0</td>\n",
       "      <td>0.004144</td>\n",
       "      <td>45454.542969</td>\n",
       "      <td>0.001</td>\n",
       "      <td>0.572232</td>\n",
       "    </tr>\n",
       "    <tr>\n",
       "      <th>4</th>\n",
       "      <td>b'aligned/17may27a_L33_1d_00016gr_00125sq_v01_...</td>\n",
       "      <td>2752.0</td>\n",
       "      <td>528.0</td>\n",
       "      <td>300.0</td>\n",
       "      <td>16902.119141</td>\n",
       "      <td>19336.498047</td>\n",
       "      <td>5.996486</td>\n",
       "      <td>2.7</td>\n",
       "      <td>5.0</td>\n",
       "      <td>0.012169</td>\n",
       "      <td>45454.542969</td>\n",
       "      <td>0.001</td>\n",
       "      <td>0.690324</td>\n",
       "    </tr>\n",
       "  </tbody>\n",
       "</table>\n",
       "</div>"
      ],
      "text/plain": [
       "                                      MicrographName  CoordinateX  \\\n",
       "0  b'aligned/17may27a_L33_1d_00016gr_00125sq_v01_...       2336.0   \n",
       "1  b'aligned/17may27a_L33_1d_00016gr_00125sq_v01_...       3116.0   \n",
       "2  b'aligned/17may27a_L33_1d_00016gr_00125sq_v01_...        724.0   \n",
       "3  b'aligned/17may27a_L33_1d_00016gr_00125sq_v01_...       1016.0   \n",
       "4  b'aligned/17may27a_L33_1d_00016gr_00125sq_v01_...       2752.0   \n",
       "\n",
       "   CoordinateY  Voltage      DefocusU      DefocusV  DefocusAngle  \\\n",
       "0        336.0    300.0  17178.685547  19613.064453      5.996486   \n",
       "1        228.0    300.0  17204.728516  19639.107422      5.996486   \n",
       "2        496.0    300.0  17467.830078  19902.208984      5.996486   \n",
       "3        540.0    300.0  17555.066406  19989.445312      5.996486   \n",
       "4        528.0    300.0  16902.119141  19336.498047      5.996486   \n",
       "\n",
       "   SphericalAberration  DetectorPixelSize  CtfFigureOfMerit  Magnification  \\\n",
       "0                  2.7                5.0          0.010898   45454.542969   \n",
       "1                  2.7                5.0          0.013667   45454.542969   \n",
       "2                  2.7                5.0          0.004492   45454.542969   \n",
       "3                  2.7                5.0          0.004144   45454.542969   \n",
       "4                  2.7                5.0          0.012169   45454.542969   \n",
       "\n",
       "   AmplitudeContrast  AutopickFigureOfMerit  \n",
       "0              0.001               0.824345  \n",
       "1              0.001               0.655404  \n",
       "2              0.001               0.214542  \n",
       "3              0.001               0.572232  \n",
       "4              0.001               0.690324  "
      ]
     },
     "execution_count": 18,
     "metadata": {},
     "output_type": "execute_result"
    }
   ],
   "source": [
    "#Let's rename those columns\n",
    "dfstar = dfstar.rename(columns=cn2str)\n",
    "dfstar.head()"
   ]
  },
  {
   "cell_type": "markdown",
   "metadata": {},
   "source": [
    "# Recreate Figures in Excel sheet\n",
    "we're first checking if we're reading the files in correctly by trying to recreate the images in 17may27a_L33_1d_00016gr_00125sq_v01_00007hln_00005enn_cs.xlsx*\n",
    "\n",
    "Note that the colors are different, so we're focusing on getting the same grouped striping effect. "
   ]
  },
  {
   "cell_type": "markdown",
   "metadata": {},
   "source": [
    "### Create colormappings\n",
    "In excel, the A-K groupings were generated by taking the minimum and maximum of the data and 10 equally spaced steps between the minium and maximum. In Python, the numpy linspace function will give that spacing."
   ]
  },
  {
   "cell_type": "code",
   "execution_count": 19,
   "metadata": {},
   "outputs": [
    {
     "data": {
      "text/plain": [
       "(array([16204.873047  , 16374.06184911, 16543.25065122, 16712.43945333,\n",
       "        16881.62825544, 17050.81705756, 17220.00585967, 17389.19466178,\n",
       "        17558.38346389, 17727.572266  ]),\n",
       " array([18639.251953  , 18808.44075511, 18977.62955722, 19146.81835933,\n",
       "        19316.00716144, 19485.19596356, 19654.38476567, 19823.57356778,\n",
       "        19992.76236989, 20161.951172  ]))"
      ]
     },
     "execution_count": 19,
     "metadata": {},
     "output_type": "execute_result"
    }
   ],
   "source": [
    "import numpy as np\n",
    "binU = np.linspace(dfstar['DefocusU'].min(), dfstar['DefocusU'].max(), 10)\n",
    "binV = np.linspace(dfstar['DefocusV'].min(), dfstar['DefocusV'].max(), 10)\n",
    "binU, binV"
   ]
  },
  {
   "cell_type": "markdown",
   "metadata": {},
   "source": [
    "Now we can use the BoundaryNorm from matplotlib to assign every value in a given bin to one color, every value in the next bin to another color, etc. The colormap is the list of colors we're going to use for the assignment"
   ]
  },
  {
   "cell_type": "code",
   "execution_count": 20,
   "metadata": {},
   "outputs": [],
   "source": [
    "import matplotlib.pyplot as plt\n",
    "import matplotlib.colors as mcolors\n",
    "cmap = plt.get_cmap('jet_r') #these are the colors\n",
    "normU = mcolors.BoundaryNorm(binU, cmap.N) \n",
    "normV = mcolors.BoundaryNorm(binV, cmap.N)"
   ]
  },
  {
   "cell_type": "markdown",
   "metadata": {},
   "source": [
    "Here we tell scatter how to make the plots. We use the data keyword argument and pass in the dataframe so that we can identify the columns directly. We're going to color based on the value in the Defocus column, but choose which color based on the bin it's placed into using the normalization we set above. The scheme is:\n",
    "\n",
    "`cmap(norm(value))->color`\n",
    "\n",
    "A simple version is if I have \n",
    "* colormap of 3 colors: `[red, green, blue]`\n",
    "* boundary norm of: `[1, 5, 10, 15]`\n",
    "\n",
    "So given:\n",
    "* value = 3: that's in the 1-5 bin, so it gets colored red\n",
    "* value = 12: that's in the 10-15 bin so it gets colored blue"
   ]
  },
  {
   "cell_type": "code",
   "execution_count": 21,
   "metadata": {},
   "outputs": [
    {
     "data": {
      "image/png": "[encoded data removed]",
      "text/plain": [
       "<Figure size 720x360 with 4 Axes>"
      ]
     },
     "metadata": {
      "needs_background": "light"
     },
     "output_type": "display_data"
    }
   ],
   "source": [
    "%matplotlib inline \n",
    "import matplotlib.pyplot as plt #plotting library\n",
    "# constrained_layout is to cleanup spacing between plots, \n",
    "# _= is to supress print statements\n",
    "fig, (ax1, ax2) = plt.subplots(nrows=2, figsize=(10,5), constrained_layout=True)\n",
    "_ = ax1.set_title(\"DefocusU\")\n",
    "#using the data keyword argument, we can just identify the columns\n",
    "im1 = ax1.scatter('CoordinateX', 'CoordinateY', c='DefocusU', cmap=cmap, norm=normU, data =dfstar)\n",
    "_ = fig.colorbar(im1, ax=ax1)\n",
    "_ = ax2.set_title(\"DefocusV\")\n",
    "im2 = ax2.scatter('CoordinateX', 'CoordinateY', c='DefocusV', cmap=cmap, norm=normV, data=dfstar)\n",
    "_ = fig.colorbar(im2, ax=ax2)"
   ]
  },
  {
   "cell_type": "code",
   "execution_count": null,
   "metadata": {},
   "outputs": [],
   "source": []
  }
 ],
 "metadata": {
  "kernelspec": {
   "display_name": "Python 3",
   "language": "python",
   "name": "python3"
  },
  "language_info": {
   "codemirror_mode": {
    "name": "ipython",
    "version": 3
   },
   "file_extension": ".py",
   "mimetype": "text/x-python",
   "name": "python",
   "nbconvert_exporter": "python",
   "pygments_lexer": "ipython3",
   "version": "3.7.3"
  }
 },
 "nbformat": 4,
 "nbformat_minor": 2
}
