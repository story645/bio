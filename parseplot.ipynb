{
 "cells": [
  {
   "cell_type": "markdown",
   "metadata": {},
   "source": [
    "# Install library to read Relian .star files\n",
    "We're using mrcz because it was pip installable (meaning it was easy to install):\n",
    "https://python-mrcz.readthedocs.io/index.html"
   ]
  },
  {
   "cell_type": "code",
   "execution_count": 5,
   "metadata": {},
   "outputs": [
    {
     "name": "stdout",
     "output_type": "stream",
     "text": [
      "Collecting mrcz\n",
      "\u001b[?25l  Downloading https://files.pythonhosted.org/packages/57/50/9473b4a99639d66c3bf8c73f3ef3124740d0dfd850b7d362c1c96c227764/mrcz-0.5.2-py3-none-any.whl (40kB)\n",
      "\u001b[K     |████████████████████████████████| 40kB 82kB/s eta 0:00:01\n",
      "\u001b[?25hRequirement already satisfied: numpy in /home/hannah/miniconda3/envs/bio/lib/python3.7/site-packages (from mrcz) (1.17.0)\n",
      "Installing collected packages: mrcz\n",
      "Successfully installed mrcz-0.5.2\n",
      "Note: you may need to restart the kernel to use updated packages.\n"
     ]
    }
   ],
   "source": [
    "%pip install mrcz"
   ]
  },
  {
   "cell_type": "code",
   "execution_count": 10,
   "metadata": {},
   "outputs": [],
   "source": [
    "import mrcz.ReliablePy as mrp"
   ]
  },
  {
   "cell_type": "code",
   "execution_count": 11,
   "metadata": {},
   "outputs": [],
   "source": [
    "# create data object\n",
    "rln = mrp.ReliablePy()"
   ]
  },
  {
   "cell_type": "code",
   "execution_count": 12,
   "metadata": {},
   "outputs": [
    {
     "name": "stdout",
     "output_type": "stream",
     "text": [
      "DEBUG: lookup = {1: b'MicrographName', 2: b'CoordinateX', 3: b'CoordinateY', 4: b'Voltage', 5: b'DefocusU', 6: b'DefocusV', 7: b'DefocusAngle', 8: b'SphericalAberration', 9: b'DetectorPixelSize', 10: b'CtfFigureOfMerit', 11: b'Magnification', 12: b'AmplitudeContrast', 13: b'AutopickFigureOfMerit'}\n"
     ]
    }
   ],
   "source": [
    "#load in files\n",
    "# Wildcards can be loaded\n",
    "rln.load( '17may27a_L33_1d_00016gr_00125sq_v01_00007hln_00005enn-a_local.star')\n",
    "    "
   ]
  },
  {
   "cell_type": "code",
   "execution_count": 14,
   "metadata": {},
   "outputs": [
    {
     "data": {
      "text/plain": [
       "odict_keys([b'data_'])"
      ]
     },
     "execution_count": 14,
     "metadata": {},
     "output_type": "execute_result"
    }
   ],
   "source": [
    "#see what data is available - the file gets loaded in as a dictionary of dictionaries\n",
    "# b' means data_ is a binary string\n",
    "rln.star.keys()"
   ]
  },
  {
   "cell_type": "code",
   "execution_count": 17,
   "metadata": {},
   "outputs": [
    {
     "data": {
      "text/plain": [
       "odict_keys([b'MicrographName', b'CoordinateX', b'CoordinateY', b'Voltage', b'DefocusU', b'DefocusV', b'DefocusAngle', b'SphericalAberration', b'DetectorPixelSize', b'CtfFigureOfMerit', b'Magnification', b'AmplitudeContrast', b'AutopickFigureOfMerit'])"
      ]
     },
     "execution_count": 17,
     "metadata": {},
     "output_type": "execute_result"
    }
   ],
   "source": [
    "#lets see what fields we have for the relion style\n",
    "rln.star[b'data_'].keys()"
   ]
  },
  {
   "cell_type": "code",
   "execution_count": 37,
   "metadata": {},
   "outputs": [],
   "source": [
    "#convert the star file to a spreadsheet\n",
    "#can be done directly since it's an ordered dictionary of ordered dictionaries\n",
    "import pandas as pd\n",
    "dfstar = pd.DataFrame(rln.star[b'data_'])"
   ]
  },
  {
   "cell_type": "code",
   "execution_count": 58,
   "metadata": {},
   "outputs": [
    {
     "data": {
      "text/html": [
       "<div>\n",
       "<style scoped>\n",
       "    .dataframe tbody tr th:only-of-type {\n",
       "        vertical-align: middle;\n",
       "    }\n",
       "\n",
       "    .dataframe tbody tr th {\n",
       "        vertical-align: top;\n",
       "    }\n",
       "\n",
       "    .dataframe thead th {\n",
       "        text-align: right;\n",
       "    }\n",
       "</style>\n",
       "<table border=\"1\" class=\"dataframe\">\n",
       "  <thead>\n",
       "    <tr style=\"text-align: right;\">\n",
       "      <th></th>\n",
       "      <th>b'MicrographName'</th>\n",
       "      <th>b'CoordinateX'</th>\n",
       "      <th>b'CoordinateY'</th>\n",
       "      <th>b'Voltage'</th>\n",
       "      <th>b'DefocusU'</th>\n",
       "      <th>b'DefocusV'</th>\n",
       "      <th>b'DefocusAngle'</th>\n",
       "      <th>b'SphericalAberration'</th>\n",
       "      <th>b'DetectorPixelSize'</th>\n",
       "      <th>b'CtfFigureOfMerit'</th>\n",
       "      <th>b'Magnification'</th>\n",
       "      <th>b'AmplitudeContrast'</th>\n",
       "      <th>b'AutopickFigureOfMerit'</th>\n",
       "    </tr>\n",
       "  </thead>\n",
       "  <tbody>\n",
       "    <tr>\n",
       "      <th>0</th>\n",
       "      <td>b'aligned/17may27a_L33_1d_00016gr_00125sq_v01_...</td>\n",
       "      <td>2336.0</td>\n",
       "      <td>336.0</td>\n",
       "      <td>300.0</td>\n",
       "      <td>17178.685547</td>\n",
       "      <td>19613.064453</td>\n",
       "      <td>5.996486</td>\n",
       "      <td>2.7</td>\n",
       "      <td>5.0</td>\n",
       "      <td>0.010898</td>\n",
       "      <td>45454.542969</td>\n",
       "      <td>0.001</td>\n",
       "      <td>0.824345</td>\n",
       "    </tr>\n",
       "    <tr>\n",
       "      <th>1</th>\n",
       "      <td>b'aligned/17may27a_L33_1d_00016gr_00125sq_v01_...</td>\n",
       "      <td>3116.0</td>\n",
       "      <td>228.0</td>\n",
       "      <td>300.0</td>\n",
       "      <td>17204.728516</td>\n",
       "      <td>19639.107422</td>\n",
       "      <td>5.996486</td>\n",
       "      <td>2.7</td>\n",
       "      <td>5.0</td>\n",
       "      <td>0.013667</td>\n",
       "      <td>45454.542969</td>\n",
       "      <td>0.001</td>\n",
       "      <td>0.655404</td>\n",
       "    </tr>\n",
       "    <tr>\n",
       "      <th>2</th>\n",
       "      <td>b'aligned/17may27a_L33_1d_00016gr_00125sq_v01_...</td>\n",
       "      <td>724.0</td>\n",
       "      <td>496.0</td>\n",
       "      <td>300.0</td>\n",
       "      <td>17467.830078</td>\n",
       "      <td>19902.208984</td>\n",
       "      <td>5.996486</td>\n",
       "      <td>2.7</td>\n",
       "      <td>5.0</td>\n",
       "      <td>0.004492</td>\n",
       "      <td>45454.542969</td>\n",
       "      <td>0.001</td>\n",
       "      <td>0.214542</td>\n",
       "    </tr>\n",
       "    <tr>\n",
       "      <th>3</th>\n",
       "      <td>b'aligned/17may27a_L33_1d_00016gr_00125sq_v01_...</td>\n",
       "      <td>1016.0</td>\n",
       "      <td>540.0</td>\n",
       "      <td>300.0</td>\n",
       "      <td>17555.066406</td>\n",
       "      <td>19989.445312</td>\n",
       "      <td>5.996486</td>\n",
       "      <td>2.7</td>\n",
       "      <td>5.0</td>\n",
       "      <td>0.004144</td>\n",
       "      <td>45454.542969</td>\n",
       "      <td>0.001</td>\n",
       "      <td>0.572232</td>\n",
       "    </tr>\n",
       "    <tr>\n",
       "      <th>4</th>\n",
       "      <td>b'aligned/17may27a_L33_1d_00016gr_00125sq_v01_...</td>\n",
       "      <td>2752.0</td>\n",
       "      <td>528.0</td>\n",
       "      <td>300.0</td>\n",
       "      <td>16902.119141</td>\n",
       "      <td>19336.498047</td>\n",
       "      <td>5.996486</td>\n",
       "      <td>2.7</td>\n",
       "      <td>5.0</td>\n",
       "      <td>0.012169</td>\n",
       "      <td>45454.542969</td>\n",
       "      <td>0.001</td>\n",
       "      <td>0.690324</td>\n",
       "    </tr>\n",
       "  </tbody>\n",
       "</table>\n",
       "</div>"
      ],
      "text/plain": [
       "                                   b'MicrographName'  b'CoordinateX'  \\\n",
       "0  b'aligned/17may27a_L33_1d_00016gr_00125sq_v01_...          2336.0   \n",
       "1  b'aligned/17may27a_L33_1d_00016gr_00125sq_v01_...          3116.0   \n",
       "2  b'aligned/17may27a_L33_1d_00016gr_00125sq_v01_...           724.0   \n",
       "3  b'aligned/17may27a_L33_1d_00016gr_00125sq_v01_...          1016.0   \n",
       "4  b'aligned/17may27a_L33_1d_00016gr_00125sq_v01_...          2752.0   \n",
       "\n",
       "   b'CoordinateY'  b'Voltage'   b'DefocusU'   b'DefocusV'  b'DefocusAngle'  \\\n",
       "0           336.0       300.0  17178.685547  19613.064453         5.996486   \n",
       "1           228.0       300.0  17204.728516  19639.107422         5.996486   \n",
       "2           496.0       300.0  17467.830078  19902.208984         5.996486   \n",
       "3           540.0       300.0  17555.066406  19989.445312         5.996486   \n",
       "4           528.0       300.0  16902.119141  19336.498047         5.996486   \n",
       "\n",
       "   b'SphericalAberration'  b'DetectorPixelSize'  b'CtfFigureOfMerit'  \\\n",
       "0                     2.7                   5.0             0.010898   \n",
       "1                     2.7                   5.0             0.013667   \n",
       "2                     2.7                   5.0             0.004492   \n",
       "3                     2.7                   5.0             0.004144   \n",
       "4                     2.7                   5.0             0.012169   \n",
       "\n",
       "   b'Magnification'  b'AmplitudeContrast'  b'AutopickFigureOfMerit'  \n",
       "0      45454.542969                 0.001                  0.824345  \n",
       "1      45454.542969                 0.001                  0.655404  \n",
       "2      45454.542969                 0.001                  0.214542  \n",
       "3      45454.542969                 0.001                  0.572232  \n",
       "4      45454.542969                 0.001                  0.690324  "
      ]
     },
     "execution_count": 58,
     "metadata": {},
     "output_type": "execute_result"
    }
   ],
   "source": [
    "#let's look at that spreadsheet\n",
    "dfstar.head()"
   ]
  },
  {
   "cell_type": "code",
   "execution_count": 55,
   "metadata": {},
   "outputs": [
    {
     "data": {
      "text/plain": [
       "{b'MicrographName': 'MicrographName',\n",
       " b'CoordinateX': 'CoordinateX',\n",
       " b'CoordinateY': 'CoordinateY',\n",
       " b'Voltage': 'Voltage',\n",
       " b'DefocusU': 'DefocusU',\n",
       " b'DefocusV': 'DefocusV',\n",
       " b'DefocusAngle': 'DefocusAngle',\n",
       " b'SphericalAberration': 'SphericalAberration',\n",
       " b'DetectorPixelSize': 'DetectorPixelSize',\n",
       " b'CtfFigureOfMerit': 'CtfFigureOfMerit',\n",
       " b'Magnification': 'Magnification',\n",
       " b'AmplitudeContrast': 'AmplitudeContrast',\n",
       " b'AutopickFigureOfMerit': 'AutopickFigureOfMerit'}"
      ]
     },
     "execution_count": 55,
     "metadata": {},
     "output_type": "execute_result"
    }
   ],
   "source": [
    "# get the string version of all the column names\n",
    "cn2str = dict([(cn, cn.decode('utf-8'))for cn in dfstar.columns])\n",
    "cn2str"
   ]
  },
  {
   "cell_type": "code",
   "execution_count": 59,
   "metadata": {},
   "outputs": [
    {
     "data": {
      "text/html": [
       "<div>\n",
       "<style scoped>\n",
       "    .dataframe tbody tr th:only-of-type {\n",
       "        vertical-align: middle;\n",
       "    }\n",
       "\n",
       "    .dataframe tbody tr th {\n",
       "        vertical-align: top;\n",
       "    }\n",
       "\n",
       "    .dataframe thead th {\n",
       "        text-align: right;\n",
       "    }\n",
       "</style>\n",
       "<table border=\"1\" class=\"dataframe\">\n",
       "  <thead>\n",
       "    <tr style=\"text-align: right;\">\n",
       "      <th></th>\n",
       "      <th>MicrographName</th>\n",
       "      <th>CoordinateX</th>\n",
       "      <th>CoordinateY</th>\n",
       "      <th>Voltage</th>\n",
       "      <th>DefocusU</th>\n",
       "      <th>DefocusV</th>\n",
       "      <th>DefocusAngle</th>\n",
       "      <th>SphericalAberration</th>\n",
       "      <th>DetectorPixelSize</th>\n",
       "      <th>CtfFigureOfMerit</th>\n",
       "      <th>Magnification</th>\n",
       "      <th>AmplitudeContrast</th>\n",
       "      <th>AutopickFigureOfMerit</th>\n",
       "    </tr>\n",
       "  </thead>\n",
       "  <tbody>\n",
       "    <tr>\n",
       "      <th>0</th>\n",
       "      <td>b'aligned/17may27a_L33_1d_00016gr_00125sq_v01_...</td>\n",
       "      <td>2336.0</td>\n",
       "      <td>336.0</td>\n",
       "      <td>300.0</td>\n",
       "      <td>17178.685547</td>\n",
       "      <td>19613.064453</td>\n",
       "      <td>5.996486</td>\n",
       "      <td>2.7</td>\n",
       "      <td>5.0</td>\n",
       "      <td>0.010898</td>\n",
       "      <td>45454.542969</td>\n",
       "      <td>0.001</td>\n",
       "      <td>0.824345</td>\n",
       "    </tr>\n",
       "    <tr>\n",
       "      <th>1</th>\n",
       "      <td>b'aligned/17may27a_L33_1d_00016gr_00125sq_v01_...</td>\n",
       "      <td>3116.0</td>\n",
       "      <td>228.0</td>\n",
       "      <td>300.0</td>\n",
       "      <td>17204.728516</td>\n",
       "      <td>19639.107422</td>\n",
       "      <td>5.996486</td>\n",
       "      <td>2.7</td>\n",
       "      <td>5.0</td>\n",
       "      <td>0.013667</td>\n",
       "      <td>45454.542969</td>\n",
       "      <td>0.001</td>\n",
       "      <td>0.655404</td>\n",
       "    </tr>\n",
       "    <tr>\n",
       "      <th>2</th>\n",
       "      <td>b'aligned/17may27a_L33_1d_00016gr_00125sq_v01_...</td>\n",
       "      <td>724.0</td>\n",
       "      <td>496.0</td>\n",
       "      <td>300.0</td>\n",
       "      <td>17467.830078</td>\n",
       "      <td>19902.208984</td>\n",
       "      <td>5.996486</td>\n",
       "      <td>2.7</td>\n",
       "      <td>5.0</td>\n",
       "      <td>0.004492</td>\n",
       "      <td>45454.542969</td>\n",
       "      <td>0.001</td>\n",
       "      <td>0.214542</td>\n",
       "    </tr>\n",
       "    <tr>\n",
       "      <th>3</th>\n",
       "      <td>b'aligned/17may27a_L33_1d_00016gr_00125sq_v01_...</td>\n",
       "      <td>1016.0</td>\n",
       "      <td>540.0</td>\n",
       "      <td>300.0</td>\n",
       "      <td>17555.066406</td>\n",
       "      <td>19989.445312</td>\n",
       "      <td>5.996486</td>\n",
       "      <td>2.7</td>\n",
       "      <td>5.0</td>\n",
       "      <td>0.004144</td>\n",
       "      <td>45454.542969</td>\n",
       "      <td>0.001</td>\n",
       "      <td>0.572232</td>\n",
       "    </tr>\n",
       "    <tr>\n",
       "      <th>4</th>\n",
       "      <td>b'aligned/17may27a_L33_1d_00016gr_00125sq_v01_...</td>\n",
       "      <td>2752.0</td>\n",
       "      <td>528.0</td>\n",
       "      <td>300.0</td>\n",
       "      <td>16902.119141</td>\n",
       "      <td>19336.498047</td>\n",
       "      <td>5.996486</td>\n",
       "      <td>2.7</td>\n",
       "      <td>5.0</td>\n",
       "      <td>0.012169</td>\n",
       "      <td>45454.542969</td>\n",
       "      <td>0.001</td>\n",
       "      <td>0.690324</td>\n",
       "    </tr>\n",
       "  </tbody>\n",
       "</table>\n",
       "</div>"
      ],
      "text/plain": [
       "                                      MicrographName  CoordinateX  \\\n",
       "0  b'aligned/17may27a_L33_1d_00016gr_00125sq_v01_...       2336.0   \n",
       "1  b'aligned/17may27a_L33_1d_00016gr_00125sq_v01_...       3116.0   \n",
       "2  b'aligned/17may27a_L33_1d_00016gr_00125sq_v01_...        724.0   \n",
       "3  b'aligned/17may27a_L33_1d_00016gr_00125sq_v01_...       1016.0   \n",
       "4  b'aligned/17may27a_L33_1d_00016gr_00125sq_v01_...       2752.0   \n",
       "\n",
       "   CoordinateY  Voltage      DefocusU      DefocusV  DefocusAngle  \\\n",
       "0        336.0    300.0  17178.685547  19613.064453      5.996486   \n",
       "1        228.0    300.0  17204.728516  19639.107422      5.996486   \n",
       "2        496.0    300.0  17467.830078  19902.208984      5.996486   \n",
       "3        540.0    300.0  17555.066406  19989.445312      5.996486   \n",
       "4        528.0    300.0  16902.119141  19336.498047      5.996486   \n",
       "\n",
       "   SphericalAberration  DetectorPixelSize  CtfFigureOfMerit  Magnification  \\\n",
       "0                  2.7                5.0          0.010898   45454.542969   \n",
       "1                  2.7                5.0          0.013667   45454.542969   \n",
       "2                  2.7                5.0          0.004492   45454.542969   \n",
       "3                  2.7                5.0          0.004144   45454.542969   \n",
       "4                  2.7                5.0          0.012169   45454.542969   \n",
       "\n",
       "   AmplitudeContrast  AutopickFigureOfMerit  \n",
       "0              0.001               0.824345  \n",
       "1              0.001               0.655404  \n",
       "2              0.001               0.214542  \n",
       "3              0.001               0.572232  \n",
       "4              0.001               0.690324  "
      ]
     },
     "execution_count": 59,
     "metadata": {},
     "output_type": "execute_result"
    }
   ],
   "source": [
    "#Let's rename those columns\n",
    "dfstar = dfstar.rename(columns=cn2str)\n",
    "dfstar.head()"
   ]
  },
  {
   "cell_type": "markdown",
   "metadata": {},
   "source": [
    "# Recreate Figures in Excel sheet\n",
    "we're 1st checking if we're reading the files in correctly by trying to recreate the images in 17may27a_L33_1d_00016gr_00125sq_v01_00007hln_00005enn_cs.xlsx*\n",
    "\n",
    "Note that the colors are different, so we're focusing on getting the same grouped striping effect (Also, I have no idea what these are supposed to be multiplied by/how they're supposed to be processed). "
   ]
  },
  {
   "cell_type": "code",
   "execution_count": 119,
   "metadata": {},
   "outputs": [
    {
     "data": {
      "image/png": "[encoded data removed]",
      "text/plain": [
       "<Figure size 720x360 with 4 Axes>"
      ]
     },
     "metadata": {
      "needs_background": "light"
     },
     "output_type": "display_data"
    }
   ],
   "source": [
    "%matplotlib inline \n",
    "import matplotlib.pyplot as plt #plotting library\n",
    "# constrained_layout is to cleanup spacing between plots, \n",
    "# _= is to supress print statements\n",
    "fig, (ax1, ax2) = plt.subplots(nrows=2, figsize=(10,5), constrained_layout=True)\n",
    "_ = ax1.set_title(\"DefocusU\")\n",
    "#using the data keyword argument, we can just identify the columns\n",
    "im1 = ax1.scatter('CoordinateX', 'CoordinateY', c='DefocusU', data =dfstar)\n",
    "_ = fig.colorbar(im1, ax=ax1)\n",
    "_ = ax2.set_title(\"DefocusV\")\n",
    "im2 = ax2.scatter('CoordinateX', 'CoordinateY', c='DefocusV', data=dfstar)\n",
    "_ = fig.colorbar(im2, ax=ax2)"
   ]
  },
  {
   "cell_type": "markdown",
   "metadata": {},
   "source": [
    "# Now let's parse the log file\n",
    "Note: you might want to do this in pieces in the tutorial. The way I worked through this/built it up is as follows:"
   ]
  },
  {
   "cell_type": "markdown",
   "metadata": {},
   "source": [
    "#### Open the file\n",
    "Use a content manager to open and read in the log file\n",
    "Context managers are used because they close the file when finished with reading it"
   ]
  },
  {
   "cell_type": "code",
   "execution_count": 106,
   "metadata": {},
   "outputs": [
    {
     "name": "stdout",
     "output_type": "stream",
     "text": [
      "['CS[mm], HT[kV], AmpCnst, XMAG, DStep[um]\\n', '2.7 300.0 0.07 45454.545454545454545454545455 50000\\n', '18706.6135279480450000 17174.1264720519550000 85 1 0 Final Values\\n']\n"
     ]
    }
   ],
   "source": [
    "with open('17may27a_L33_1d_00016gr_00125sq_v01_00007hln_00005enn_frames_ctffind3.log') as f:\n",
    "    print(f.readlines())"
   ]
  },
  {
   "cell_type": "markdown",
   "metadata": {},
   "source": [
    "#### Get the first line/header\n",
    "\n",
    "Use next to grab the first line of the file since open returns a generator over the file\n",
    "\n",
    "\n",
    "A generator is kind of like a loop except the next item is grabbed on the fly instead of everything loaded at once. Making a burger fresh per order (generator) vs. having them all frozen in back (list)"
   ]
  },
  {
   "cell_type": "code",
   "execution_count": 107,
   "metadata": {},
   "outputs": [
    {
     "name": "stdout",
     "output_type": "stream",
     "text": [
      "CS[mm], HT[kV], AmpCnst, XMAG, DStep[um]\n",
      "\n"
     ]
    }
   ],
   "source": [
    "with open('17may27a_L33_1d_00016gr_00125sq_v01_00007hln_00005enn_frames_ctffind3.log') as f:\n",
    "    print(next(f))"
   ]
  },
  {
   "cell_type": "markdown",
   "metadata": {},
   "source": [
    "#### Parse the header\n",
    "Now parse the header using strip to remove the new line and split to break on the commas"
   ]
  },
  {
   "cell_type": "code",
   "execution_count": 108,
   "metadata": {},
   "outputs": [
    {
     "name": "stdout",
     "output_type": "stream",
     "text": [
      "['CS[mm]', ' HT[kV]', ' AmpCnst', ' XMAG', ' DStep[um]']\n"
     ]
    }
   ],
   "source": [
    "with open('17may27a_L33_1d_00016gr_00125sq_v01_00007hln_00005enn_frames_ctffind3.log') as f:\n",
    "    header = next(f).strip(\"\\n\").split(\",\")\n",
    "    print(header)"
   ]
  },
  {
   "cell_type": "markdown",
   "metadata": {},
   "source": [
    "#### Get the other lines\n",
    "Now lets look at the rest of the lines. That first next removes the first line, so the loop will print the rest"
   ]
  },
  {
   "cell_type": "code",
   "execution_count": 109,
   "metadata": {},
   "outputs": [
    {
     "name": "stdout",
     "output_type": "stream",
     "text": [
      "2.7 300.0 0.07 45454.545454545454545454545455 50000\n",
      "\n",
      "18706.6135279480450000 17174.1264720519550000 85 1 0 Final Values\n",
      "\n"
     ]
    }
   ],
   "source": [
    "with open('17may27a_L33_1d_00016gr_00125sq_v01_00007hln_00005enn_frames_ctffind3.log') as f:\n",
    "    header = next(f).strip(\"\\n\").split(\",\") \n",
    "    for line in f:\n",
    "        print(line)"
   ]
  },
  {
   "cell_type": "markdown",
   "metadata": {},
   "source": [
    "#### Flag the last line\n",
    "Let's pull out the last line since it's flagged differently. We know it's got `Final Values` at the end so lets look for that"
   ]
  },
  {
   "cell_type": "code",
   "execution_count": 110,
   "metadata": {},
   "outputs": [
    {
     "name": "stdout",
     "output_type": "stream",
     "text": [
      "LAST:  18706.6135279480450000 17174.1264720519550000 85 1 0 Final Values\n",
      "\n"
     ]
    }
   ],
   "source": [
    "with open('17may27a_L33_1d_00016gr_00125sq_v01_00007hln_00005enn_frames_ctffind3.log') as f:\n",
    "    header = next(f).strip(\"\\n\").split(\",\") \n",
    "    for line in f:\n",
    "        if line.endswith(\"Final Values\\n\"):\n",
    "            print(\"LAST: \", line)"
   ]
  },
  {
   "cell_type": "markdown",
   "metadata": {},
   "source": [
    "#### Build spreadsheet by building list of lines\n",
    "\n",
    "We create an empty list `loglines` to store our lines, and use pass to ignore the final values flag for now"
   ]
  },
  {
   "cell_type": "code",
   "execution_count": 111,
   "metadata": {},
   "outputs": [],
   "source": [
    "loglines = []\n",
    "with open('17may27a_L33_1d_00016gr_00125sq_v01_00007hln_00005enn_frames_ctffind3.log') as f:\n",
    "    header = next(f).strip(\"\\n\").split(\",\") \n",
    "    for line in f:\n",
    "        if line.endswith(\"Final Values\\n\"):\n",
    "            pass\n",
    "        loglines.append(line.strip(\"\\n\").split(\" \"))\n",
    "        "
   ]
  },
  {
   "cell_type": "markdown",
   "metadata": {},
   "source": [
    "#### Create spreadsheet using pandas"
   ]
  },
  {
   "cell_type": "code",
   "execution_count": 113,
   "metadata": {},
   "outputs": [
    {
     "ename": "ValueError",
     "evalue": "5 columns passed, passed data had 7 columns",
     "output_type": "error",
     "traceback": [
      "\u001b[0;31m---------------------------------------------------------------------------\u001b[0m",
      "\u001b[0;31mAssertionError\u001b[0m                            Traceback (most recent call last)",
      "\u001b[0;32m~/miniconda3/envs/bio/lib/python3.7/site-packages/pandas/core/internals/construction.py\u001b[0m in \u001b[0;36m_list_to_arrays\u001b[0;34m(data, columns, coerce_float, dtype)\u001b[0m\n\u001b[1;32m    499\u001b[0m         result = _convert_object_array(\n\u001b[0;32m--> 500\u001b[0;31m             \u001b[0mcontent\u001b[0m\u001b[0;34m,\u001b[0m \u001b[0mcolumns\u001b[0m\u001b[0;34m,\u001b[0m \u001b[0mdtype\u001b[0m\u001b[0;34m=\u001b[0m\u001b[0mdtype\u001b[0m\u001b[0;34m,\u001b[0m \u001b[0mcoerce_float\u001b[0m\u001b[0;34m=\u001b[0m\u001b[0mcoerce_float\u001b[0m\u001b[0;34m\u001b[0m\u001b[0;34m\u001b[0m\u001b[0m\n\u001b[0m\u001b[1;32m    501\u001b[0m         )\n",
      "\u001b[0;32m~/miniconda3/envs/bio/lib/python3.7/site-packages/pandas/core/internals/construction.py\u001b[0m in \u001b[0;36m_convert_object_array\u001b[0;34m(content, columns, coerce_float, dtype)\u001b[0m\n\u001b[1;32m    582\u001b[0m                 \u001b[0;34m\"{col:d} columns passed, passed data had \"\u001b[0m\u001b[0;34m\u001b[0m\u001b[0;34m\u001b[0m\u001b[0m\n\u001b[0;32m--> 583\u001b[0;31m                 \u001b[0;34m\"{con} columns\"\u001b[0m\u001b[0;34m.\u001b[0m\u001b[0mformat\u001b[0m\u001b[0;34m(\u001b[0m\u001b[0mcol\u001b[0m\u001b[0;34m=\u001b[0m\u001b[0mlen\u001b[0m\u001b[0;34m(\u001b[0m\u001b[0mcolumns\u001b[0m\u001b[0;34m)\u001b[0m\u001b[0;34m,\u001b[0m \u001b[0mcon\u001b[0m\u001b[0;34m=\u001b[0m\u001b[0mlen\u001b[0m\u001b[0;34m(\u001b[0m\u001b[0mcontent\u001b[0m\u001b[0;34m)\u001b[0m\u001b[0;34m)\u001b[0m\u001b[0;34m\u001b[0m\u001b[0;34m\u001b[0m\u001b[0m\n\u001b[0m\u001b[1;32m    584\u001b[0m             )\n",
      "\u001b[0;31mAssertionError\u001b[0m: 5 columns passed, passed data had 7 columns",
      "\nThe above exception was the direct cause of the following exception:\n",
      "\u001b[0;31mValueError\u001b[0m                                Traceback (most recent call last)",
      "\u001b[0;32m<ipython-input-113-3171d7b57d40>\u001b[0m in \u001b[0;36m<module>\u001b[0;34m\u001b[0m\n\u001b[0;32m----> 1\u001b[0;31m \u001b[0mpd\u001b[0m\u001b[0;34m.\u001b[0m\u001b[0mDataFrame\u001b[0m\u001b[0;34m(\u001b[0m\u001b[0mloglines\u001b[0m\u001b[0;34m,\u001b[0m \u001b[0mcolumns\u001b[0m\u001b[0;34m=\u001b[0m\u001b[0mheader\u001b[0m\u001b[0;34m)\u001b[0m\u001b[0;34m\u001b[0m\u001b[0;34m\u001b[0m\u001b[0m\n\u001b[0m",
      "\u001b[0;32m~/miniconda3/envs/bio/lib/python3.7/site-packages/pandas/core/frame.py\u001b[0m in \u001b[0;36m__init__\u001b[0;34m(self, data, index, columns, dtype, copy)\u001b[0m\n\u001b[1;32m    447\u001b[0m                     \u001b[0;32mif\u001b[0m \u001b[0mis_named_tuple\u001b[0m\u001b[0;34m(\u001b[0m\u001b[0mdata\u001b[0m\u001b[0;34m[\u001b[0m\u001b[0;36m0\u001b[0m\u001b[0;34m]\u001b[0m\u001b[0;34m)\u001b[0m \u001b[0;32mand\u001b[0m \u001b[0mcolumns\u001b[0m \u001b[0;32mis\u001b[0m \u001b[0;32mNone\u001b[0m\u001b[0;34m:\u001b[0m\u001b[0;34m\u001b[0m\u001b[0;34m\u001b[0m\u001b[0m\n\u001b[1;32m    448\u001b[0m                         \u001b[0mcolumns\u001b[0m \u001b[0;34m=\u001b[0m \u001b[0mdata\u001b[0m\u001b[0;34m[\u001b[0m\u001b[0;36m0\u001b[0m\u001b[0;34m]\u001b[0m\u001b[0;34m.\u001b[0m\u001b[0m_fields\u001b[0m\u001b[0;34m\u001b[0m\u001b[0;34m\u001b[0m\u001b[0m\n\u001b[0;32m--> 449\u001b[0;31m                     \u001b[0marrays\u001b[0m\u001b[0;34m,\u001b[0m \u001b[0mcolumns\u001b[0m \u001b[0;34m=\u001b[0m \u001b[0mto_arrays\u001b[0m\u001b[0;34m(\u001b[0m\u001b[0mdata\u001b[0m\u001b[0;34m,\u001b[0m \u001b[0mcolumns\u001b[0m\u001b[0;34m,\u001b[0m \u001b[0mdtype\u001b[0m\u001b[0;34m=\u001b[0m\u001b[0mdtype\u001b[0m\u001b[0;34m)\u001b[0m\u001b[0;34m\u001b[0m\u001b[0;34m\u001b[0m\u001b[0m\n\u001b[0m\u001b[1;32m    450\u001b[0m                     \u001b[0mcolumns\u001b[0m \u001b[0;34m=\u001b[0m \u001b[0mensure_index\u001b[0m\u001b[0;34m(\u001b[0m\u001b[0mcolumns\u001b[0m\u001b[0;34m)\u001b[0m\u001b[0;34m\u001b[0m\u001b[0;34m\u001b[0m\u001b[0m\n\u001b[1;32m    451\u001b[0m \u001b[0;34m\u001b[0m\u001b[0m\n",
      "\u001b[0;32m~/miniconda3/envs/bio/lib/python3.7/site-packages/pandas/core/internals/construction.py\u001b[0m in \u001b[0;36mto_arrays\u001b[0;34m(data, columns, coerce_float, dtype)\u001b[0m\n\u001b[1;32m    462\u001b[0m         \u001b[0;32mreturn\u001b[0m \u001b[0;34m[\u001b[0m\u001b[0;34m]\u001b[0m\u001b[0;34m,\u001b[0m \u001b[0;34m[\u001b[0m\u001b[0;34m]\u001b[0m  \u001b[0;31m# columns if columns is not None else []\u001b[0m\u001b[0;34m\u001b[0m\u001b[0;34m\u001b[0m\u001b[0m\n\u001b[1;32m    463\u001b[0m     \u001b[0;32mif\u001b[0m \u001b[0misinstance\u001b[0m\u001b[0;34m(\u001b[0m\u001b[0mdata\u001b[0m\u001b[0;34m[\u001b[0m\u001b[0;36m0\u001b[0m\u001b[0;34m]\u001b[0m\u001b[0;34m,\u001b[0m \u001b[0;34m(\u001b[0m\u001b[0mlist\u001b[0m\u001b[0;34m,\u001b[0m \u001b[0mtuple\u001b[0m\u001b[0;34m)\u001b[0m\u001b[0;34m)\u001b[0m\u001b[0;34m:\u001b[0m\u001b[0;34m\u001b[0m\u001b[0;34m\u001b[0m\u001b[0m\n\u001b[0;32m--> 464\u001b[0;31m         \u001b[0;32mreturn\u001b[0m \u001b[0m_list_to_arrays\u001b[0m\u001b[0;34m(\u001b[0m\u001b[0mdata\u001b[0m\u001b[0;34m,\u001b[0m \u001b[0mcolumns\u001b[0m\u001b[0;34m,\u001b[0m \u001b[0mcoerce_float\u001b[0m\u001b[0;34m=\u001b[0m\u001b[0mcoerce_float\u001b[0m\u001b[0;34m,\u001b[0m \u001b[0mdtype\u001b[0m\u001b[0;34m=\u001b[0m\u001b[0mdtype\u001b[0m\u001b[0;34m)\u001b[0m\u001b[0;34m\u001b[0m\u001b[0;34m\u001b[0m\u001b[0m\n\u001b[0m\u001b[1;32m    465\u001b[0m     \u001b[0;32melif\u001b[0m \u001b[0misinstance\u001b[0m\u001b[0;34m(\u001b[0m\u001b[0mdata\u001b[0m\u001b[0;34m[\u001b[0m\u001b[0;36m0\u001b[0m\u001b[0;34m]\u001b[0m\u001b[0;34m,\u001b[0m \u001b[0mabc\u001b[0m\u001b[0;34m.\u001b[0m\u001b[0mMapping\u001b[0m\u001b[0;34m)\u001b[0m\u001b[0;34m:\u001b[0m\u001b[0;34m\u001b[0m\u001b[0;34m\u001b[0m\u001b[0m\n\u001b[1;32m    466\u001b[0m         return _list_of_dict_to_arrays(\n",
      "\u001b[0;32m~/miniconda3/envs/bio/lib/python3.7/site-packages/pandas/core/internals/construction.py\u001b[0m in \u001b[0;36m_list_to_arrays\u001b[0;34m(data, columns, coerce_float, dtype)\u001b[0m\n\u001b[1;32m    501\u001b[0m         )\n\u001b[1;32m    502\u001b[0m     \u001b[0;32mexcept\u001b[0m \u001b[0mAssertionError\u001b[0m \u001b[0;32mas\u001b[0m \u001b[0me\u001b[0m\u001b[0;34m:\u001b[0m\u001b[0;34m\u001b[0m\u001b[0;34m\u001b[0m\u001b[0m\n\u001b[0;32m--> 503\u001b[0;31m         \u001b[0;32mraise\u001b[0m \u001b[0mValueError\u001b[0m\u001b[0;34m(\u001b[0m\u001b[0me\u001b[0m\u001b[0;34m)\u001b[0m \u001b[0;32mfrom\u001b[0m \u001b[0me\u001b[0m\u001b[0;34m\u001b[0m\u001b[0;34m\u001b[0m\u001b[0m\n\u001b[0m\u001b[1;32m    504\u001b[0m     \u001b[0;32mreturn\u001b[0m \u001b[0mresult\u001b[0m\u001b[0;34m\u001b[0m\u001b[0;34m\u001b[0m\u001b[0m\n\u001b[1;32m    505\u001b[0m \u001b[0;34m\u001b[0m\u001b[0m\n",
      "\u001b[0;31mValueError\u001b[0m: 5 columns passed, passed data had 7 columns"
     ]
    }
   ],
   "source": [
    "pd.DataFrame(loglines, columns=header)"
   ]
  },
  {
   "cell_type": "markdown",
   "metadata": {},
   "source": [
    "#### Lets use that last line flag\n",
    "The spreadsheet creation failed because the last line is 7 columns when we only have 5 column headers. To make sure we're always passing in 5 columns of data, let's strip the final marker out of the last line. \n",
    "(Note, I have no idea how this should actually be parsed-Amadee, Dominique?)"
   ]
  },
  {
   "cell_type": "code",
   "execution_count": 114,
   "metadata": {},
   "outputs": [],
   "source": [
    "loglines = []\n",
    "with open('17may27a_L33_1d_00016gr_00125sq_v01_00007hln_00005enn_frames_ctffind3.log') as f:\n",
    "    header = next(f).strip(\"\\n\").split(\",\") \n",
    "    for line in f:\n",
    "        if line.endswith(\"Final Values\\n\"):\n",
    "            line = line.strip(\"Final Values\\n\")    \n",
    "        loglines.append(line.strip(\"\\n\").split(\" \"))\n",
    "        "
   ]
  },
  {
   "cell_type": "markdown",
   "metadata": {},
   "source": [
    "#### Lets try again to make that spreadsheet"
   ]
  },
  {
   "cell_type": "code",
   "execution_count": 117,
   "metadata": {},
   "outputs": [],
   "source": [
    "dflog = pd.DataFrame(loglines, columns=header)"
   ]
  },
  {
   "cell_type": "code",
   "execution_count": 118,
   "metadata": {},
   "outputs": [
    {
     "data": {
      "text/html": [
       "<div>\n",
       "<style scoped>\n",
       "    .dataframe tbody tr th:only-of-type {\n",
       "        vertical-align: middle;\n",
       "    }\n",
       "\n",
       "    .dataframe tbody tr th {\n",
       "        vertical-align: top;\n",
       "    }\n",
       "\n",
       "    .dataframe thead th {\n",
       "        text-align: right;\n",
       "    }\n",
       "</style>\n",
       "<table border=\"1\" class=\"dataframe\">\n",
       "  <thead>\n",
       "    <tr style=\"text-align: right;\">\n",
       "      <th></th>\n",
       "      <th>CS[mm]</th>\n",
       "      <th>HT[kV]</th>\n",
       "      <th>AmpCnst</th>\n",
       "      <th>XMAG</th>\n",
       "      <th>DStep[um]</th>\n",
       "    </tr>\n",
       "  </thead>\n",
       "  <tbody>\n",
       "    <tr>\n",
       "      <th>0</th>\n",
       "      <td>2.7</td>\n",
       "      <td>300.0</td>\n",
       "      <td>0.07</td>\n",
       "      <td>45454.545454545454545454545455</td>\n",
       "      <td>50000</td>\n",
       "    </tr>\n",
       "    <tr>\n",
       "      <th>1</th>\n",
       "      <td>18706.6135279480450000</td>\n",
       "      <td>17174.1264720519550000</td>\n",
       "      <td>85</td>\n",
       "      <td>1</td>\n",
       "      <td>0</td>\n",
       "    </tr>\n",
       "  </tbody>\n",
       "</table>\n",
       "</div>"
      ],
      "text/plain": [
       "                   CS[mm]                  HT[kV]  AmpCnst  \\\n",
       "0                     2.7                   300.0     0.07   \n",
       "1  18706.6135279480450000  17174.1264720519550000       85   \n",
       "\n",
       "                             XMAG  DStep[um]  \n",
       "0  45454.545454545454545454545455      50000  \n",
       "1                               1          0  "
      ]
     },
     "execution_count": 118,
     "metadata": {},
     "output_type": "execute_result"
    }
   ],
   "source": [
    "dflog.head()"
   ]
  },
  {
   "cell_type": "markdown",
   "metadata": {},
   "source": [
    "# "
   ]
  }
 ],
 "metadata": {
  "kernelspec": {
   "display_name": "Python 3",
   "language": "python",
   "name": "python3"
  },
  "language_info": {
   "codemirror_mode": {
    "name": "ipython",
    "version": 3
   },
   "file_extension": ".py",
   "mimetype": "text/x-python",
   "name": "python",
   "nbconvert_exporter": "python",
   "pygments_lexer": "ipython3",
   "version": "3.7.3"
  }
 },
 "nbformat": 4,
 "nbformat_minor": 2
}
